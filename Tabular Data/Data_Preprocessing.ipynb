{
  "nbformat": 4,
  "nbformat_minor": 0,
  "metadata": {
    "colab": {
      "name": "Data Preprocessing.ipynb",
      "version": "0.3.2",
      "provenance": [],
      "collapsed_sections": []
    },
    "kernelspec": {
      "name": "python3",
      "display_name": "Python 3"
    }
  },
  "cells": [
    {
      "cell_type": "markdown",
      "metadata": {
        "id": "sUkNVf7dOg_F",
        "colab_type": "text"
      },
      "source": [
        "First, connect to your drive so that collab can find the dataset that needs to be worked on."
      ]
    },
    {
      "cell_type": "code",
      "metadata": {
        "id": "sFB2OuM6XrMM",
        "colab_type": "code",
        "outputId": "7af3630c-4bdb-4f13-8353-9c61a5c4296b",
        "colab": {
          "base_uri": "https://localhost:8080/",
          "height": 122
        }
      },
      "source": [
        "from google.colab import drive\n",
        "drive.mount('/content/gdrive')"
      ],
      "execution_count": 0,
      "outputs": [
        {
          "output_type": "stream",
          "text": [
            "Go to this URL in a browser: https://accounts.google.com/o/oauth2/auth?client_id=947318989803-6bn6qk8qdgf4n4g3pfee6491hc0brc4i.apps.googleusercontent.com&redirect_uri=urn%3Aietf%3Awg%3Aoauth%3A2.0%3Aoob&scope=email%20https%3A%2F%2Fwww.googleapis.com%2Fauth%2Fdocs.test%20https%3A%2F%2Fwww.googleapis.com%2Fauth%2Fdrive%20https%3A%2F%2Fwww.googleapis.com%2Fauth%2Fdrive.photos.readonly%20https%3A%2F%2Fwww.googleapis.com%2Fauth%2Fpeopleapi.readonly&response_type=code\n",
            "\n",
            "Enter your authorization code:\n",
            "··········\n",
            "Mounted at /content/gdrive\n"
          ],
          "name": "stdout"
        }
      ]
    },
    {
      "cell_type": "markdown",
      "metadata": {
        "id": "NjOxdLa0X0Ac",
        "colab_type": "text"
      },
      "source": [
        "Import the required packages and functions"
      ]
    },
    {
      "cell_type": "code",
      "metadata": {
        "id": "qkwwwG94X22w",
        "colab_type": "code",
        "colab": {}
      },
      "source": [
        "import pandas as pd\n",
        "import numpy as np\n",
        "from sklearn import preprocessing\n",
        "import matplotlib.pyplot as plt\n",
        "import pickle\n",
        "import seaborn as sns"
      ],
      "execution_count": 0,
      "outputs": []
    },
    {
      "cell_type": "markdown",
      "metadata": {
        "id": "3p2RRCaRX--z",
        "colab_type": "text"
      },
      "source": [
        "Import the dataset from the csv (comma separated values) file using Pandas library"
      ]
    },
    {
      "cell_type": "code",
      "metadata": {
        "id": "ORKb4p-LYKnZ",
        "colab_type": "code",
        "colab": {}
      },
      "source": [
        "df = pd.read_csv(\"gdrive/My Drive/Colab Notebooks/Summer School/titanic_dataset.csv\")"
      ],
      "execution_count": 0,
      "outputs": []
    },
    {
      "cell_type": "markdown",
      "metadata": {
        "id": "D7Jf5040Hrs6",
        "colab_type": "text"
      },
      "source": [
        "Next we are going to view the data with some useful functions in pandas library"
      ]
    },
    {
      "cell_type": "code",
      "metadata": {
        "id": "z8zcxWoYY2KG",
        "colab_type": "code",
        "outputId": "21a7cc21-d926-4f5d-8151-d9db93197e95",
        "colab": {
          "base_uri": "https://localhost:8080/",
          "height": 204
        }
      },
      "source": [
        "df.head()  # Observe the attribute values for the first 5 users (rows) "
      ],
      "execution_count": 17,
      "outputs": [
        {
          "output_type": "execute_result",
          "data": {
            "text/html": [
              "<div>\n",
              "<style scoped>\n",
              "    .dataframe tbody tr th:only-of-type {\n",
              "        vertical-align: middle;\n",
              "    }\n",
              "\n",
              "    .dataframe tbody tr th {\n",
              "        vertical-align: top;\n",
              "    }\n",
              "\n",
              "    .dataframe thead th {\n",
              "        text-align: right;\n",
              "    }\n",
              "</style>\n",
              "<table border=\"1\" class=\"dataframe\">\n",
              "  <thead>\n",
              "    <tr style=\"text-align: right;\">\n",
              "      <th></th>\n",
              "      <th>PassengerId</th>\n",
              "      <th>Pclass</th>\n",
              "      <th>Name</th>\n",
              "      <th>Sex</th>\n",
              "      <th>Age</th>\n",
              "      <th>SibSp</th>\n",
              "      <th>Parch</th>\n",
              "      <th>Ticket</th>\n",
              "      <th>Fare</th>\n",
              "      <th>Cabin</th>\n",
              "      <th>Embarked</th>\n",
              "      <th>Survived</th>\n",
              "    </tr>\n",
              "  </thead>\n",
              "  <tbody>\n",
              "    <tr>\n",
              "      <th>0</th>\n",
              "      <td>1</td>\n",
              "      <td>3</td>\n",
              "      <td>Braund, Mr. Owen Harris</td>\n",
              "      <td>male</td>\n",
              "      <td>22.0</td>\n",
              "      <td>1</td>\n",
              "      <td>0</td>\n",
              "      <td>A/5 21171</td>\n",
              "      <td>7.2500</td>\n",
              "      <td>NaN</td>\n",
              "      <td>S</td>\n",
              "      <td>0</td>\n",
              "    </tr>\n",
              "    <tr>\n",
              "      <th>1</th>\n",
              "      <td>2</td>\n",
              "      <td>1</td>\n",
              "      <td>Cumings, Mrs. John Bradley (Florence Briggs Th...</td>\n",
              "      <td>female</td>\n",
              "      <td>38.0</td>\n",
              "      <td>1</td>\n",
              "      <td>0</td>\n",
              "      <td>PC 17599</td>\n",
              "      <td>71.2833</td>\n",
              "      <td>C85</td>\n",
              "      <td>C</td>\n",
              "      <td>1</td>\n",
              "    </tr>\n",
              "    <tr>\n",
              "      <th>2</th>\n",
              "      <td>3</td>\n",
              "      <td>3</td>\n",
              "      <td>Heikkinen, Miss. Laina</td>\n",
              "      <td>female</td>\n",
              "      <td>26.0</td>\n",
              "      <td>0</td>\n",
              "      <td>0</td>\n",
              "      <td>STON/O2. 3101282</td>\n",
              "      <td>7.9250</td>\n",
              "      <td>NaN</td>\n",
              "      <td>S</td>\n",
              "      <td>1</td>\n",
              "    </tr>\n",
              "    <tr>\n",
              "      <th>3</th>\n",
              "      <td>4</td>\n",
              "      <td>1</td>\n",
              "      <td>Futrelle, Mrs. Jacques Heath (Lily May Peel)</td>\n",
              "      <td>female</td>\n",
              "      <td>35.0</td>\n",
              "      <td>1</td>\n",
              "      <td>0</td>\n",
              "      <td>113803</td>\n",
              "      <td>53.1000</td>\n",
              "      <td>C123</td>\n",
              "      <td>S</td>\n",
              "      <td>1</td>\n",
              "    </tr>\n",
              "    <tr>\n",
              "      <th>4</th>\n",
              "      <td>5</td>\n",
              "      <td>3</td>\n",
              "      <td>Allen, Mr. William Henry</td>\n",
              "      <td>male</td>\n",
              "      <td>35.0</td>\n",
              "      <td>0</td>\n",
              "      <td>0</td>\n",
              "      <td>373450</td>\n",
              "      <td>8.0500</td>\n",
              "      <td>NaN</td>\n",
              "      <td>S</td>\n",
              "      <td>0</td>\n",
              "    </tr>\n",
              "  </tbody>\n",
              "</table>\n",
              "</div>"
            ],
            "text/plain": [
              "   PassengerId  Pclass  ... Embarked Survived\n",
              "0            1       3  ...        S        0\n",
              "1            2       1  ...        C        1\n",
              "2            3       3  ...        S        1\n",
              "3            4       1  ...        S        1\n",
              "4            5       3  ...        S        0\n",
              "\n",
              "[5 rows x 12 columns]"
            ]
          },
          "metadata": {
            "tags": []
          },
          "execution_count": 17
        }
      ]
    },
    {
      "cell_type": "markdown",
      "metadata": {
        "id": "XgXHcgjiZL6n",
        "colab_type": "text"
      },
      "source": [
        "In the above dataset, the following attributes/features are present:\n",
        "\n",
        "\n",
        "* **PassengerId**: passenger id\n",
        "* **Pclass**: passenger class (1 for 1st, 2 for 2nd, 3 for 3rd)\n",
        "* **Name**: name\n",
        "*  **Sex**: gender\n",
        "* **Age**: age\n",
        "* **SibSp**: number of siblings/spouses aboard\n",
        "* **Parch**: number of parents/children aboard\n",
        "***Ticket**: ticket number\n",
        "***Fare**: passenger fare(money paid for the trip) in British pound\n",
        "***Cabin**: cabin number\n",
        "***Embarked**: port where the passenger embarked (C for Cherbourg, Q for Queenstown, S for Southampton)\n",
        "***Survived**: whether the passenger survived or not (0 for no and 1 for yes)\n",
        "\n",
        "\n",
        "---\n",
        "\n",
        "\n",
        "\n",
        "\n",
        "\n"
      ]
    },
    {
      "cell_type": "markdown",
      "metadata": {
        "id": "TKxZ0Pq0tPlO",
        "colab_type": "text"
      },
      "source": [
        "* **Nominal Features (within Categorical)**: Sex and Embarked\n",
        "* **Binary (within Categorical)**: Survived\n",
        "* **Ordinal (within Categorical)**: Pclass\n",
        "* **Continuous**: Age and Fare (can be turned to interval-based)\n",
        "* **Discrete**: SibSp, Parch\n",
        "* **Mixed Type**: Ticket\n",
        "* **Vector Object**: Name (text)\n"
      ]
    },
    {
      "cell_type": "code",
      "metadata": {
        "id": "w-Fco7BVrYIg",
        "colab_type": "code",
        "outputId": "44fe76f9-bfb0-4b5b-982e-e63baadd012a",
        "colab": {
          "base_uri": "https://localhost:8080/",
          "height": 204
        }
      },
      "source": [
        "df.tail()  # Observe the attribute values for the last 5 users (rows)"
      ],
      "execution_count": 0,
      "outputs": [
        {
          "output_type": "execute_result",
          "data": {
            "text/html": [
              "<div>\n",
              "<style scoped>\n",
              "    .dataframe tbody tr th:only-of-type {\n",
              "        vertical-align: middle;\n",
              "    }\n",
              "\n",
              "    .dataframe tbody tr th {\n",
              "        vertical-align: top;\n",
              "    }\n",
              "\n",
              "    .dataframe thead th {\n",
              "        text-align: right;\n",
              "    }\n",
              "</style>\n",
              "<table border=\"1\" class=\"dataframe\">\n",
              "  <thead>\n",
              "    <tr style=\"text-align: right;\">\n",
              "      <th></th>\n",
              "      <th>PassengerId</th>\n",
              "      <th>Pclass</th>\n",
              "      <th>Name</th>\n",
              "      <th>Sex</th>\n",
              "      <th>Age</th>\n",
              "      <th>SibSp</th>\n",
              "      <th>Parch</th>\n",
              "      <th>Ticket</th>\n",
              "      <th>Fare</th>\n",
              "      <th>Cabin</th>\n",
              "      <th>Embarked</th>\n",
              "      <th>Survived</th>\n",
              "    </tr>\n",
              "  </thead>\n",
              "  <tbody>\n",
              "    <tr>\n",
              "      <th>1304</th>\n",
              "      <td>1305</td>\n",
              "      <td>3</td>\n",
              "      <td>Spector, Mr. Woolf</td>\n",
              "      <td>male</td>\n",
              "      <td>NaN</td>\n",
              "      <td>0</td>\n",
              "      <td>0</td>\n",
              "      <td>A.5. 3236</td>\n",
              "      <td>8.0500</td>\n",
              "      <td>NaN</td>\n",
              "      <td>S</td>\n",
              "      <td>0</td>\n",
              "    </tr>\n",
              "    <tr>\n",
              "      <th>1305</th>\n",
              "      <td>1306</td>\n",
              "      <td>1</td>\n",
              "      <td>Oliva y Ocana, Dona. Fermina</td>\n",
              "      <td>female</td>\n",
              "      <td>39.0</td>\n",
              "      <td>0</td>\n",
              "      <td>0</td>\n",
              "      <td>PC 17758</td>\n",
              "      <td>108.9000</td>\n",
              "      <td>C105</td>\n",
              "      <td>C</td>\n",
              "      <td>1</td>\n",
              "    </tr>\n",
              "    <tr>\n",
              "      <th>1306</th>\n",
              "      <td>1307</td>\n",
              "      <td>3</td>\n",
              "      <td>Saether, Mr. Simon Sivertsen</td>\n",
              "      <td>male</td>\n",
              "      <td>38.5</td>\n",
              "      <td>0</td>\n",
              "      <td>0</td>\n",
              "      <td>SOTON/O.Q. 3101262</td>\n",
              "      <td>7.2500</td>\n",
              "      <td>NaN</td>\n",
              "      <td>S</td>\n",
              "      <td>0</td>\n",
              "    </tr>\n",
              "    <tr>\n",
              "      <th>1307</th>\n",
              "      <td>1308</td>\n",
              "      <td>3</td>\n",
              "      <td>Ware, Mr. Frederick</td>\n",
              "      <td>male</td>\n",
              "      <td>NaN</td>\n",
              "      <td>0</td>\n",
              "      <td>0</td>\n",
              "      <td>359309</td>\n",
              "      <td>8.0500</td>\n",
              "      <td>NaN</td>\n",
              "      <td>S</td>\n",
              "      <td>0</td>\n",
              "    </tr>\n",
              "    <tr>\n",
              "      <th>1308</th>\n",
              "      <td>1309</td>\n",
              "      <td>3</td>\n",
              "      <td>Peter, Master. Michael J</td>\n",
              "      <td>male</td>\n",
              "      <td>NaN</td>\n",
              "      <td>1</td>\n",
              "      <td>1</td>\n",
              "      <td>2668</td>\n",
              "      <td>22.3583</td>\n",
              "      <td>NaN</td>\n",
              "      <td>C</td>\n",
              "      <td>0</td>\n",
              "    </tr>\n",
              "  </tbody>\n",
              "</table>\n",
              "</div>"
            ],
            "text/plain": [
              "      PassengerId  Pclass  ... Embarked Survived\n",
              "1304         1305       3  ...        S        0\n",
              "1305         1306       1  ...        C        1\n",
              "1306         1307       3  ...        S        0\n",
              "1307         1308       3  ...        S        0\n",
              "1308         1309       3  ...        C        0\n",
              "\n",
              "[5 rows x 12 columns]"
            ]
          },
          "metadata": {
            "tags": []
          },
          "execution_count": 8
        }
      ]
    },
    {
      "cell_type": "code",
      "metadata": {
        "id": "uMHAC6xbrj--",
        "colab_type": "code",
        "outputId": "8f4f5457-a24b-4d06-cbe1-d4ceebed0a14",
        "colab": {
          "base_uri": "https://localhost:8080/",
          "height": 34
        }
      },
      "source": [
        "# Check the dimensions\n",
        "data_shape = df.shape\n",
        "print(data_shape)"
      ],
      "execution_count": 0,
      "outputs": [
        {
          "output_type": "stream",
          "text": [
            "(1309, 12)\n"
          ],
          "name": "stdout"
        }
      ]
    },
    {
      "cell_type": "markdown",
      "metadata": {
        "id": "R0kMkI5jfh0Z",
        "colab_type": "text"
      },
      "source": [
        "This tells us that the titanic dataset has 1309 rows and 12 columns (i.e. features)."
      ]
    },
    {
      "cell_type": "code",
      "metadata": {
        "id": "dwRZk0fYr0SX",
        "colab_type": "code",
        "outputId": "249d103f-612f-4b9a-f7b3-aabcc21b985d",
        "colab": {
          "base_uri": "https://localhost:8080/",
          "height": 34
        }
      },
      "source": [
        "# Check the type of the dataset\n",
        "type(df)"
      ],
      "execution_count": 0,
      "outputs": [
        {
          "output_type": "execute_result",
          "data": {
            "text/plain": [
              "pandas.core.frame.DataFrame"
            ]
          },
          "metadata": {
            "tags": []
          },
          "execution_count": 10
        }
      ]
    },
    {
      "cell_type": "code",
      "metadata": {
        "id": "bszwx2b9r8aJ",
        "colab_type": "code",
        "outputId": "7b3bbdc4-1278-4a8d-f72c-d02da63faa88",
        "colab": {
          "base_uri": "https://localhost:8080/",
          "height": 390
        }
      },
      "source": [
        "# Get a summary description of the data\n",
        "df.describe(include='all')"
      ],
      "execution_count": 0,
      "outputs": [
        {
          "output_type": "execute_result",
          "data": {
            "text/html": [
              "<div>\n",
              "<style scoped>\n",
              "    .dataframe tbody tr th:only-of-type {\n",
              "        vertical-align: middle;\n",
              "    }\n",
              "\n",
              "    .dataframe tbody tr th {\n",
              "        vertical-align: top;\n",
              "    }\n",
              "\n",
              "    .dataframe thead th {\n",
              "        text-align: right;\n",
              "    }\n",
              "</style>\n",
              "<table border=\"1\" class=\"dataframe\">\n",
              "  <thead>\n",
              "    <tr style=\"text-align: right;\">\n",
              "      <th></th>\n",
              "      <th>PassengerId</th>\n",
              "      <th>Pclass</th>\n",
              "      <th>Name</th>\n",
              "      <th>Sex</th>\n",
              "      <th>Age</th>\n",
              "      <th>SibSp</th>\n",
              "      <th>Parch</th>\n",
              "      <th>Ticket</th>\n",
              "      <th>Fare</th>\n",
              "      <th>Cabin</th>\n",
              "      <th>Embarked</th>\n",
              "      <th>Survived</th>\n",
              "    </tr>\n",
              "  </thead>\n",
              "  <tbody>\n",
              "    <tr>\n",
              "      <th>count</th>\n",
              "      <td>1309.000000</td>\n",
              "      <td>1309.000000</td>\n",
              "      <td>1309</td>\n",
              "      <td>1309</td>\n",
              "      <td>1046.000000</td>\n",
              "      <td>1309.000000</td>\n",
              "      <td>1309.000000</td>\n",
              "      <td>1309</td>\n",
              "      <td>1308.000000</td>\n",
              "      <td>295</td>\n",
              "      <td>1307</td>\n",
              "      <td>1309.000000</td>\n",
              "    </tr>\n",
              "    <tr>\n",
              "      <th>unique</th>\n",
              "      <td>NaN</td>\n",
              "      <td>NaN</td>\n",
              "      <td>1307</td>\n",
              "      <td>2</td>\n",
              "      <td>NaN</td>\n",
              "      <td>NaN</td>\n",
              "      <td>NaN</td>\n",
              "      <td>929</td>\n",
              "      <td>NaN</td>\n",
              "      <td>186</td>\n",
              "      <td>3</td>\n",
              "      <td>NaN</td>\n",
              "    </tr>\n",
              "    <tr>\n",
              "      <th>top</th>\n",
              "      <td>NaN</td>\n",
              "      <td>NaN</td>\n",
              "      <td>Kelly, Mr. James</td>\n",
              "      <td>male</td>\n",
              "      <td>NaN</td>\n",
              "      <td>NaN</td>\n",
              "      <td>NaN</td>\n",
              "      <td>CA. 2343</td>\n",
              "      <td>NaN</td>\n",
              "      <td>C23 C25 C27</td>\n",
              "      <td>S</td>\n",
              "      <td>NaN</td>\n",
              "    </tr>\n",
              "    <tr>\n",
              "      <th>freq</th>\n",
              "      <td>NaN</td>\n",
              "      <td>NaN</td>\n",
              "      <td>2</td>\n",
              "      <td>843</td>\n",
              "      <td>NaN</td>\n",
              "      <td>NaN</td>\n",
              "      <td>NaN</td>\n",
              "      <td>11</td>\n",
              "      <td>NaN</td>\n",
              "      <td>6</td>\n",
              "      <td>914</td>\n",
              "      <td>NaN</td>\n",
              "    </tr>\n",
              "    <tr>\n",
              "      <th>mean</th>\n",
              "      <td>655.000000</td>\n",
              "      <td>2.294882</td>\n",
              "      <td>NaN</td>\n",
              "      <td>NaN</td>\n",
              "      <td>29.881138</td>\n",
              "      <td>0.498854</td>\n",
              "      <td>0.385027</td>\n",
              "      <td>NaN</td>\n",
              "      <td>33.295479</td>\n",
              "      <td>NaN</td>\n",
              "      <td>NaN</td>\n",
              "      <td>0.377387</td>\n",
              "    </tr>\n",
              "    <tr>\n",
              "      <th>std</th>\n",
              "      <td>378.020061</td>\n",
              "      <td>0.837836</td>\n",
              "      <td>NaN</td>\n",
              "      <td>NaN</td>\n",
              "      <td>14.413493</td>\n",
              "      <td>1.041658</td>\n",
              "      <td>0.865560</td>\n",
              "      <td>NaN</td>\n",
              "      <td>51.758668</td>\n",
              "      <td>NaN</td>\n",
              "      <td>NaN</td>\n",
              "      <td>0.484918</td>\n",
              "    </tr>\n",
              "    <tr>\n",
              "      <th>min</th>\n",
              "      <td>1.000000</td>\n",
              "      <td>1.000000</td>\n",
              "      <td>NaN</td>\n",
              "      <td>NaN</td>\n",
              "      <td>0.170000</td>\n",
              "      <td>0.000000</td>\n",
              "      <td>0.000000</td>\n",
              "      <td>NaN</td>\n",
              "      <td>0.000000</td>\n",
              "      <td>NaN</td>\n",
              "      <td>NaN</td>\n",
              "      <td>0.000000</td>\n",
              "    </tr>\n",
              "    <tr>\n",
              "      <th>25%</th>\n",
              "      <td>328.000000</td>\n",
              "      <td>2.000000</td>\n",
              "      <td>NaN</td>\n",
              "      <td>NaN</td>\n",
              "      <td>21.000000</td>\n",
              "      <td>0.000000</td>\n",
              "      <td>0.000000</td>\n",
              "      <td>NaN</td>\n",
              "      <td>7.895800</td>\n",
              "      <td>NaN</td>\n",
              "      <td>NaN</td>\n",
              "      <td>0.000000</td>\n",
              "    </tr>\n",
              "    <tr>\n",
              "      <th>50%</th>\n",
              "      <td>655.000000</td>\n",
              "      <td>3.000000</td>\n",
              "      <td>NaN</td>\n",
              "      <td>NaN</td>\n",
              "      <td>28.000000</td>\n",
              "      <td>0.000000</td>\n",
              "      <td>0.000000</td>\n",
              "      <td>NaN</td>\n",
              "      <td>14.454200</td>\n",
              "      <td>NaN</td>\n",
              "      <td>NaN</td>\n",
              "      <td>0.000000</td>\n",
              "    </tr>\n",
              "    <tr>\n",
              "      <th>75%</th>\n",
              "      <td>982.000000</td>\n",
              "      <td>3.000000</td>\n",
              "      <td>NaN</td>\n",
              "      <td>NaN</td>\n",
              "      <td>39.000000</td>\n",
              "      <td>1.000000</td>\n",
              "      <td>0.000000</td>\n",
              "      <td>NaN</td>\n",
              "      <td>31.275000</td>\n",
              "      <td>NaN</td>\n",
              "      <td>NaN</td>\n",
              "      <td>1.000000</td>\n",
              "    </tr>\n",
              "    <tr>\n",
              "      <th>max</th>\n",
              "      <td>1309.000000</td>\n",
              "      <td>3.000000</td>\n",
              "      <td>NaN</td>\n",
              "      <td>NaN</td>\n",
              "      <td>80.000000</td>\n",
              "      <td>8.000000</td>\n",
              "      <td>9.000000</td>\n",
              "      <td>NaN</td>\n",
              "      <td>512.329200</td>\n",
              "      <td>NaN</td>\n",
              "      <td>NaN</td>\n",
              "      <td>1.000000</td>\n",
              "    </tr>\n",
              "  </tbody>\n",
              "</table>\n",
              "</div>"
            ],
            "text/plain": [
              "        PassengerId       Pclass  ... Embarked     Survived\n",
              "count   1309.000000  1309.000000  ...     1307  1309.000000\n",
              "unique          NaN          NaN  ...        3          NaN\n",
              "top             NaN          NaN  ...        S          NaN\n",
              "freq            NaN          NaN  ...      914          NaN\n",
              "mean     655.000000     2.294882  ...      NaN     0.377387\n",
              "std      378.020061     0.837836  ...      NaN     0.484918\n",
              "min        1.000000     1.000000  ...      NaN     0.000000\n",
              "25%      328.000000     2.000000  ...      NaN     0.000000\n",
              "50%      655.000000     3.000000  ...      NaN     0.000000\n",
              "75%      982.000000     3.000000  ...      NaN     1.000000\n",
              "max     1309.000000     3.000000  ...      NaN     1.000000\n",
              "\n",
              "[11 rows x 12 columns]"
            ]
          },
          "metadata": {
            "tags": []
          },
          "execution_count": 11
        }
      ]
    },
    {
      "cell_type": "code",
      "metadata": {
        "id": "KlSe9TnksFqD",
        "colab_type": "code",
        "outputId": "5ed0eba3-9604-416b-ecc1-183ae52a7334",
        "colab": {
          "base_uri": "https://localhost:8080/",
          "height": 238
        }
      },
      "source": [
        "# Count the number of observations present\n",
        "df.count()"
      ],
      "execution_count": 0,
      "outputs": [
        {
          "output_type": "execute_result",
          "data": {
            "text/plain": [
              "PassengerId    1309\n",
              "Pclass         1309\n",
              "Name           1309\n",
              "Sex            1309\n",
              "Age            1046\n",
              "SibSp          1309\n",
              "Parch          1309\n",
              "Ticket         1309\n",
              "Fare           1308\n",
              "Cabin           295\n",
              "Embarked       1307\n",
              "Survived       1309\n",
              "dtype: int64"
            ]
          },
          "metadata": {
            "tags": []
          },
          "execution_count": 12
        }
      ]
    },
    {
      "cell_type": "markdown",
      "metadata": {
        "id": "0kzCiY_KPP-k",
        "colab_type": "text"
      },
      "source": [
        "# Data Cleaning"
      ]
    },
    {
      "cell_type": "markdown",
      "metadata": {
        "id": "K9pMQe3KIaP5",
        "colab_type": "text"
      },
      "source": [
        "## Missing Values"
      ]
    },
    {
      "cell_type": "markdown",
      "metadata": {
        "id": "7i29hkDSJUov",
        "colab_type": "text"
      },
      "source": [
        "From the above results, we can notice that some attributes like Age, Fare, Cabin, and Embarked have less value count than the rest or the actual amount of passengers or rows. This tells us that these attributes have missing values. \n",
        "Consequently, we will now try to fill those missing values. The possible solutions for such case are:\n",
        "* Ignoring them: if they are many or when you have missing information that you need to fill these values (for example, a certain class label). This of course might give a bad performance.\n",
        "* Using a global constant for these missing values: for example putting them all as \"unknown\" or NA.\n",
        "* Filling them with the mean of their respective attribute (or median if it's discrete).\n",
        "*  Filling them with the mean of their respective attribute but within the same class: example taking the average mean of only thos who survived instead of everyone (it depends if it makes more sense).\n",
        "\n",
        "Here, we will fill the missing values with the mean of their respective attribute. This is done below.\n"
      ]
    },
    {
      "cell_type": "code",
      "metadata": {
        "id": "RbvuFcQ1EH2C",
        "colab_type": "code",
        "outputId": "4817226a-6e29-41d9-c868-1bb5f10e839b",
        "colab": {
          "base_uri": "https://localhost:8080/",
          "height": 238
        }
      },
      "source": [
        "df.fillna(df.mean(), inplace=True)\n",
        "df.count()"
      ],
      "execution_count": 18,
      "outputs": [
        {
          "output_type": "execute_result",
          "data": {
            "text/plain": [
              "PassengerId    1309\n",
              "Pclass         1309\n",
              "Name           1309\n",
              "Sex            1309\n",
              "Age            1309\n",
              "SibSp          1309\n",
              "Parch          1309\n",
              "Ticket         1309\n",
              "Fare           1309\n",
              "Cabin           295\n",
              "Embarked       1307\n",
              "Survived       1309\n",
              "dtype: int64"
            ]
          },
          "metadata": {
            "tags": []
          },
          "execution_count": 18
        }
      ]
    },
    {
      "cell_type": "markdown",
      "metadata": {
        "id": "u28b7_sAING-",
        "colab_type": "text"
      },
      "source": [
        "## Row Reduction"
      ]
    },
    {
      "cell_type": "markdown",
      "metadata": {
        "id": "2bWtpX3MGdnH",
        "colab_type": "text"
      },
      "source": [
        "We can see above that this filled the numerical continuous-valued attributes. For the non-numerical categorical ones like Cabin and Embarked, we need another method. For Embarked, since only two values are missing and we can't find a way to know which port these had, we can simply drop their rows (they are only two so they won't affect the result much). This is a method of row reduction. Another option (instead of dropping) can be filling them with the most frequent value."
      ]
    },
    {
      "cell_type": "code",
      "metadata": {
        "id": "efqLJHakH9So",
        "colab_type": "code",
        "outputId": "e7261225-d912-483a-d316-7c744d643599",
        "colab": {
          "base_uri": "https://localhost:8080/",
          "height": 238
        }
      },
      "source": [
        "out_embarked = df[df['Embarked'].isnull()]\n",
        "df.drop(out_embarked.index, inplace=True)\n",
        "df.count()"
      ],
      "execution_count": 19,
      "outputs": [
        {
          "output_type": "execute_result",
          "data": {
            "text/plain": [
              "PassengerId    1307\n",
              "Pclass         1307\n",
              "Name           1307\n",
              "Sex            1307\n",
              "Age            1307\n",
              "SibSp          1307\n",
              "Parch          1307\n",
              "Ticket         1307\n",
              "Fare           1307\n",
              "Cabin           293\n",
              "Embarked       1307\n",
              "Survived       1307\n",
              "dtype: int64"
            ]
          },
          "metadata": {
            "tags": []
          },
          "execution_count": 19
        }
      ]
    },
    {
      "cell_type": "markdown",
      "metadata": {
        "id": "5nB4VR7JIvNn",
        "colab_type": "text"
      },
      "source": [
        "## Duplicates"
      ]
    },
    {
      "cell_type": "markdown",
      "metadata": {
        "id": "GWHDFAduI1ZN",
        "colab_type": "text"
      },
      "source": [
        "In some cases, especially if the data is collected from different sources, there might be duplicate entries existing in the database. In this case, we need to drop them since they can affect the result. Below, we can see that the dataset has no duplicates, so no action is needed."
      ]
    },
    {
      "cell_type": "code",
      "metadata": {
        "id": "-A_PfMIoJ_jc",
        "colab_type": "code",
        "colab": {
          "base_uri": "https://localhost:8080/",
          "height": 1000
        },
        "outputId": "0f8457f6-e9d3-447d-dac4-1cb208d7f989"
      },
      "source": [
        "print('Dataset has duplicates? ', df.duplicated())  # Check for duplicates in the whole dataset\n",
        "# You can also check for duplicates in specific attributes\n",
        "print('Passenger Id is duplicated? ', df.duplicated('PassengerId'))\n",
        "\n",
        "# No duplicates are present, but if they are, the following method can be used to drop them:\n",
        "df.drop_duplicates()\n",
        "df.drop_duplicates(['PassengerId'])  # for a specific attribute"
      ],
      "execution_count": 20,
      "outputs": [
        {
          "output_type": "stream",
          "text": [
            "Dataset has duplicates?  0       False\n",
            "1       False\n",
            "2       False\n",
            "3       False\n",
            "4       False\n",
            "5       False\n",
            "6       False\n",
            "7       False\n",
            "8       False\n",
            "9       False\n",
            "10      False\n",
            "11      False\n",
            "12      False\n",
            "13      False\n",
            "14      False\n",
            "15      False\n",
            "16      False\n",
            "17      False\n",
            "18      False\n",
            "19      False\n",
            "20      False\n",
            "21      False\n",
            "22      False\n",
            "23      False\n",
            "24      False\n",
            "25      False\n",
            "26      False\n",
            "27      False\n",
            "28      False\n",
            "29      False\n",
            "        ...  \n",
            "1279    False\n",
            "1280    False\n",
            "1281    False\n",
            "1282    False\n",
            "1283    False\n",
            "1284    False\n",
            "1285    False\n",
            "1286    False\n",
            "1287    False\n",
            "1288    False\n",
            "1289    False\n",
            "1290    False\n",
            "1291    False\n",
            "1292    False\n",
            "1293    False\n",
            "1294    False\n",
            "1295    False\n",
            "1296    False\n",
            "1297    False\n",
            "1298    False\n",
            "1299    False\n",
            "1300    False\n",
            "1301    False\n",
            "1302    False\n",
            "1303    False\n",
            "1304    False\n",
            "1305    False\n",
            "1306    False\n",
            "1307    False\n",
            "1308    False\n",
            "Length: 1307, dtype: bool\n",
            "Passenger Id is duplicated?  0       False\n",
            "1       False\n",
            "2       False\n",
            "3       False\n",
            "4       False\n",
            "5       False\n",
            "6       False\n",
            "7       False\n",
            "8       False\n",
            "9       False\n",
            "10      False\n",
            "11      False\n",
            "12      False\n",
            "13      False\n",
            "14      False\n",
            "15      False\n",
            "16      False\n",
            "17      False\n",
            "18      False\n",
            "19      False\n",
            "20      False\n",
            "21      False\n",
            "22      False\n",
            "23      False\n",
            "24      False\n",
            "25      False\n",
            "26      False\n",
            "27      False\n",
            "28      False\n",
            "29      False\n",
            "        ...  \n",
            "1279    False\n",
            "1280    False\n",
            "1281    False\n",
            "1282    False\n",
            "1283    False\n",
            "1284    False\n",
            "1285    False\n",
            "1286    False\n",
            "1287    False\n",
            "1288    False\n",
            "1289    False\n",
            "1290    False\n",
            "1291    False\n",
            "1292    False\n",
            "1293    False\n",
            "1294    False\n",
            "1295    False\n",
            "1296    False\n",
            "1297    False\n",
            "1298    False\n",
            "1299    False\n",
            "1300    False\n",
            "1301    False\n",
            "1302    False\n",
            "1303    False\n",
            "1304    False\n",
            "1305    False\n",
            "1306    False\n",
            "1307    False\n",
            "1308    False\n",
            "Length: 1307, dtype: bool\n"
          ],
          "name": "stdout"
        },
        {
          "output_type": "execute_result",
          "data": {
            "text/html": [
              "<div>\n",
              "<style scoped>\n",
              "    .dataframe tbody tr th:only-of-type {\n",
              "        vertical-align: middle;\n",
              "    }\n",
              "\n",
              "    .dataframe tbody tr th {\n",
              "        vertical-align: top;\n",
              "    }\n",
              "\n",
              "    .dataframe thead th {\n",
              "        text-align: right;\n",
              "    }\n",
              "</style>\n",
              "<table border=\"1\" class=\"dataframe\">\n",
              "  <thead>\n",
              "    <tr style=\"text-align: right;\">\n",
              "      <th></th>\n",
              "      <th>PassengerId</th>\n",
              "      <th>Pclass</th>\n",
              "      <th>Name</th>\n",
              "      <th>Sex</th>\n",
              "      <th>Age</th>\n",
              "      <th>SibSp</th>\n",
              "      <th>Parch</th>\n",
              "      <th>Ticket</th>\n",
              "      <th>Fare</th>\n",
              "      <th>Cabin</th>\n",
              "      <th>Embarked</th>\n",
              "      <th>Survived</th>\n",
              "    </tr>\n",
              "  </thead>\n",
              "  <tbody>\n",
              "    <tr>\n",
              "      <th>0</th>\n",
              "      <td>1</td>\n",
              "      <td>3</td>\n",
              "      <td>Braund, Mr. Owen Harris</td>\n",
              "      <td>male</td>\n",
              "      <td>22.000000</td>\n",
              "      <td>1</td>\n",
              "      <td>0</td>\n",
              "      <td>A/5 21171</td>\n",
              "      <td>7.2500</td>\n",
              "      <td>NaN</td>\n",
              "      <td>S</td>\n",
              "      <td>0</td>\n",
              "    </tr>\n",
              "    <tr>\n",
              "      <th>1</th>\n",
              "      <td>2</td>\n",
              "      <td>1</td>\n",
              "      <td>Cumings, Mrs. John Bradley (Florence Briggs Th...</td>\n",
              "      <td>female</td>\n",
              "      <td>38.000000</td>\n",
              "      <td>1</td>\n",
              "      <td>0</td>\n",
              "      <td>PC 17599</td>\n",
              "      <td>71.2833</td>\n",
              "      <td>C85</td>\n",
              "      <td>C</td>\n",
              "      <td>1</td>\n",
              "    </tr>\n",
              "    <tr>\n",
              "      <th>2</th>\n",
              "      <td>3</td>\n",
              "      <td>3</td>\n",
              "      <td>Heikkinen, Miss. Laina</td>\n",
              "      <td>female</td>\n",
              "      <td>26.000000</td>\n",
              "      <td>0</td>\n",
              "      <td>0</td>\n",
              "      <td>STON/O2. 3101282</td>\n",
              "      <td>7.9250</td>\n",
              "      <td>NaN</td>\n",
              "      <td>S</td>\n",
              "      <td>1</td>\n",
              "    </tr>\n",
              "    <tr>\n",
              "      <th>3</th>\n",
              "      <td>4</td>\n",
              "      <td>1</td>\n",
              "      <td>Futrelle, Mrs. Jacques Heath (Lily May Peel)</td>\n",
              "      <td>female</td>\n",
              "      <td>35.000000</td>\n",
              "      <td>1</td>\n",
              "      <td>0</td>\n",
              "      <td>113803</td>\n",
              "      <td>53.1000</td>\n",
              "      <td>C123</td>\n",
              "      <td>S</td>\n",
              "      <td>1</td>\n",
              "    </tr>\n",
              "    <tr>\n",
              "      <th>4</th>\n",
              "      <td>5</td>\n",
              "      <td>3</td>\n",
              "      <td>Allen, Mr. William Henry</td>\n",
              "      <td>male</td>\n",
              "      <td>35.000000</td>\n",
              "      <td>0</td>\n",
              "      <td>0</td>\n",
              "      <td>373450</td>\n",
              "      <td>8.0500</td>\n",
              "      <td>NaN</td>\n",
              "      <td>S</td>\n",
              "      <td>0</td>\n",
              "    </tr>\n",
              "    <tr>\n",
              "      <th>5</th>\n",
              "      <td>6</td>\n",
              "      <td>3</td>\n",
              "      <td>Moran, Mr. James</td>\n",
              "      <td>male</td>\n",
              "      <td>29.881138</td>\n",
              "      <td>0</td>\n",
              "      <td>0</td>\n",
              "      <td>330877</td>\n",
              "      <td>8.4583</td>\n",
              "      <td>NaN</td>\n",
              "      <td>Q</td>\n",
              "      <td>0</td>\n",
              "    </tr>\n",
              "    <tr>\n",
              "      <th>6</th>\n",
              "      <td>7</td>\n",
              "      <td>1</td>\n",
              "      <td>McCarthy, Mr. Timothy J</td>\n",
              "      <td>male</td>\n",
              "      <td>54.000000</td>\n",
              "      <td>0</td>\n",
              "      <td>0</td>\n",
              "      <td>17463</td>\n",
              "      <td>51.8625</td>\n",
              "      <td>E46</td>\n",
              "      <td>S</td>\n",
              "      <td>0</td>\n",
              "    </tr>\n",
              "    <tr>\n",
              "      <th>7</th>\n",
              "      <td>8</td>\n",
              "      <td>3</td>\n",
              "      <td>Palsson, Master. Gosta Leonard</td>\n",
              "      <td>male</td>\n",
              "      <td>2.000000</td>\n",
              "      <td>3</td>\n",
              "      <td>1</td>\n",
              "      <td>349909</td>\n",
              "      <td>21.0750</td>\n",
              "      <td>NaN</td>\n",
              "      <td>S</td>\n",
              "      <td>0</td>\n",
              "    </tr>\n",
              "    <tr>\n",
              "      <th>8</th>\n",
              "      <td>9</td>\n",
              "      <td>3</td>\n",
              "      <td>Johnson, Mrs. Oscar W (Elisabeth Vilhelmina Berg)</td>\n",
              "      <td>female</td>\n",
              "      <td>27.000000</td>\n",
              "      <td>0</td>\n",
              "      <td>2</td>\n",
              "      <td>347742</td>\n",
              "      <td>11.1333</td>\n",
              "      <td>NaN</td>\n",
              "      <td>S</td>\n",
              "      <td>1</td>\n",
              "    </tr>\n",
              "    <tr>\n",
              "      <th>9</th>\n",
              "      <td>10</td>\n",
              "      <td>2</td>\n",
              "      <td>Nasser, Mrs. Nicholas (Adele Achem)</td>\n",
              "      <td>female</td>\n",
              "      <td>14.000000</td>\n",
              "      <td>1</td>\n",
              "      <td>0</td>\n",
              "      <td>237736</td>\n",
              "      <td>30.0708</td>\n",
              "      <td>NaN</td>\n",
              "      <td>C</td>\n",
              "      <td>1</td>\n",
              "    </tr>\n",
              "    <tr>\n",
              "      <th>10</th>\n",
              "      <td>11</td>\n",
              "      <td>3</td>\n",
              "      <td>Sandstrom, Miss. Marguerite Rut</td>\n",
              "      <td>female</td>\n",
              "      <td>4.000000</td>\n",
              "      <td>1</td>\n",
              "      <td>1</td>\n",
              "      <td>PP 9549</td>\n",
              "      <td>16.7000</td>\n",
              "      <td>G6</td>\n",
              "      <td>S</td>\n",
              "      <td>1</td>\n",
              "    </tr>\n",
              "    <tr>\n",
              "      <th>11</th>\n",
              "      <td>12</td>\n",
              "      <td>1</td>\n",
              "      <td>Bonnell, Miss. Elizabeth</td>\n",
              "      <td>female</td>\n",
              "      <td>58.000000</td>\n",
              "      <td>0</td>\n",
              "      <td>0</td>\n",
              "      <td>113783</td>\n",
              "      <td>26.5500</td>\n",
              "      <td>C103</td>\n",
              "      <td>S</td>\n",
              "      <td>1</td>\n",
              "    </tr>\n",
              "    <tr>\n",
              "      <th>12</th>\n",
              "      <td>13</td>\n",
              "      <td>3</td>\n",
              "      <td>Saundercock, Mr. William Henry</td>\n",
              "      <td>male</td>\n",
              "      <td>20.000000</td>\n",
              "      <td>0</td>\n",
              "      <td>0</td>\n",
              "      <td>A/5. 2151</td>\n",
              "      <td>8.0500</td>\n",
              "      <td>NaN</td>\n",
              "      <td>S</td>\n",
              "      <td>0</td>\n",
              "    </tr>\n",
              "    <tr>\n",
              "      <th>13</th>\n",
              "      <td>14</td>\n",
              "      <td>3</td>\n",
              "      <td>Andersson, Mr. Anders Johan</td>\n",
              "      <td>male</td>\n",
              "      <td>39.000000</td>\n",
              "      <td>1</td>\n",
              "      <td>5</td>\n",
              "      <td>347082</td>\n",
              "      <td>31.2750</td>\n",
              "      <td>NaN</td>\n",
              "      <td>S</td>\n",
              "      <td>0</td>\n",
              "    </tr>\n",
              "    <tr>\n",
              "      <th>14</th>\n",
              "      <td>15</td>\n",
              "      <td>3</td>\n",
              "      <td>Vestrom, Miss. Hulda Amanda Adolfina</td>\n",
              "      <td>female</td>\n",
              "      <td>14.000000</td>\n",
              "      <td>0</td>\n",
              "      <td>0</td>\n",
              "      <td>350406</td>\n",
              "      <td>7.8542</td>\n",
              "      <td>NaN</td>\n",
              "      <td>S</td>\n",
              "      <td>0</td>\n",
              "    </tr>\n",
              "    <tr>\n",
              "      <th>15</th>\n",
              "      <td>16</td>\n",
              "      <td>2</td>\n",
              "      <td>Hewlett, Mrs. (Mary D Kingcome)</td>\n",
              "      <td>female</td>\n",
              "      <td>55.000000</td>\n",
              "      <td>0</td>\n",
              "      <td>0</td>\n",
              "      <td>248706</td>\n",
              "      <td>16.0000</td>\n",
              "      <td>NaN</td>\n",
              "      <td>S</td>\n",
              "      <td>1</td>\n",
              "    </tr>\n",
              "    <tr>\n",
              "      <th>16</th>\n",
              "      <td>17</td>\n",
              "      <td>3</td>\n",
              "      <td>Rice, Master. Eugene</td>\n",
              "      <td>male</td>\n",
              "      <td>2.000000</td>\n",
              "      <td>4</td>\n",
              "      <td>1</td>\n",
              "      <td>382652</td>\n",
              "      <td>29.1250</td>\n",
              "      <td>NaN</td>\n",
              "      <td>Q</td>\n",
              "      <td>0</td>\n",
              "    </tr>\n",
              "    <tr>\n",
              "      <th>17</th>\n",
              "      <td>18</td>\n",
              "      <td>2</td>\n",
              "      <td>Williams, Mr. Charles Eugene</td>\n",
              "      <td>male</td>\n",
              "      <td>29.881138</td>\n",
              "      <td>0</td>\n",
              "      <td>0</td>\n",
              "      <td>244373</td>\n",
              "      <td>13.0000</td>\n",
              "      <td>NaN</td>\n",
              "      <td>S</td>\n",
              "      <td>1</td>\n",
              "    </tr>\n",
              "    <tr>\n",
              "      <th>18</th>\n",
              "      <td>19</td>\n",
              "      <td>3</td>\n",
              "      <td>Vander Planke, Mrs. Julius (Emelia Maria Vande...</td>\n",
              "      <td>female</td>\n",
              "      <td>31.000000</td>\n",
              "      <td>1</td>\n",
              "      <td>0</td>\n",
              "      <td>345763</td>\n",
              "      <td>18.0000</td>\n",
              "      <td>NaN</td>\n",
              "      <td>S</td>\n",
              "      <td>0</td>\n",
              "    </tr>\n",
              "    <tr>\n",
              "      <th>19</th>\n",
              "      <td>20</td>\n",
              "      <td>3</td>\n",
              "      <td>Masselmani, Mrs. Fatima</td>\n",
              "      <td>female</td>\n",
              "      <td>29.881138</td>\n",
              "      <td>0</td>\n",
              "      <td>0</td>\n",
              "      <td>2649</td>\n",
              "      <td>7.2250</td>\n",
              "      <td>NaN</td>\n",
              "      <td>C</td>\n",
              "      <td>1</td>\n",
              "    </tr>\n",
              "    <tr>\n",
              "      <th>20</th>\n",
              "      <td>21</td>\n",
              "      <td>2</td>\n",
              "      <td>Fynney, Mr. Joseph J</td>\n",
              "      <td>male</td>\n",
              "      <td>35.000000</td>\n",
              "      <td>0</td>\n",
              "      <td>0</td>\n",
              "      <td>239865</td>\n",
              "      <td>26.0000</td>\n",
              "      <td>NaN</td>\n",
              "      <td>S</td>\n",
              "      <td>0</td>\n",
              "    </tr>\n",
              "    <tr>\n",
              "      <th>21</th>\n",
              "      <td>22</td>\n",
              "      <td>2</td>\n",
              "      <td>Beesley, Mr. Lawrence</td>\n",
              "      <td>male</td>\n",
              "      <td>34.000000</td>\n",
              "      <td>0</td>\n",
              "      <td>0</td>\n",
              "      <td>248698</td>\n",
              "      <td>13.0000</td>\n",
              "      <td>D56</td>\n",
              "      <td>S</td>\n",
              "      <td>1</td>\n",
              "    </tr>\n",
              "    <tr>\n",
              "      <th>22</th>\n",
              "      <td>23</td>\n",
              "      <td>3</td>\n",
              "      <td>McGowan, Miss. Anna \"Annie\"</td>\n",
              "      <td>female</td>\n",
              "      <td>15.000000</td>\n",
              "      <td>0</td>\n",
              "      <td>0</td>\n",
              "      <td>330923</td>\n",
              "      <td>8.0292</td>\n",
              "      <td>NaN</td>\n",
              "      <td>Q</td>\n",
              "      <td>1</td>\n",
              "    </tr>\n",
              "    <tr>\n",
              "      <th>23</th>\n",
              "      <td>24</td>\n",
              "      <td>1</td>\n",
              "      <td>Sloper, Mr. William Thompson</td>\n",
              "      <td>male</td>\n",
              "      <td>28.000000</td>\n",
              "      <td>0</td>\n",
              "      <td>0</td>\n",
              "      <td>113788</td>\n",
              "      <td>35.5000</td>\n",
              "      <td>A6</td>\n",
              "      <td>S</td>\n",
              "      <td>1</td>\n",
              "    </tr>\n",
              "    <tr>\n",
              "      <th>24</th>\n",
              "      <td>25</td>\n",
              "      <td>3</td>\n",
              "      <td>Palsson, Miss. Torborg Danira</td>\n",
              "      <td>female</td>\n",
              "      <td>8.000000</td>\n",
              "      <td>3</td>\n",
              "      <td>1</td>\n",
              "      <td>349909</td>\n",
              "      <td>21.0750</td>\n",
              "      <td>NaN</td>\n",
              "      <td>S</td>\n",
              "      <td>0</td>\n",
              "    </tr>\n",
              "    <tr>\n",
              "      <th>25</th>\n",
              "      <td>26</td>\n",
              "      <td>3</td>\n",
              "      <td>Asplund, Mrs. Carl Oscar (Selma Augusta Emilia...</td>\n",
              "      <td>female</td>\n",
              "      <td>38.000000</td>\n",
              "      <td>1</td>\n",
              "      <td>5</td>\n",
              "      <td>347077</td>\n",
              "      <td>31.3875</td>\n",
              "      <td>NaN</td>\n",
              "      <td>S</td>\n",
              "      <td>1</td>\n",
              "    </tr>\n",
              "    <tr>\n",
              "      <th>26</th>\n",
              "      <td>27</td>\n",
              "      <td>3</td>\n",
              "      <td>Emir, Mr. Farred Chehab</td>\n",
              "      <td>male</td>\n",
              "      <td>29.881138</td>\n",
              "      <td>0</td>\n",
              "      <td>0</td>\n",
              "      <td>2631</td>\n",
              "      <td>7.2250</td>\n",
              "      <td>NaN</td>\n",
              "      <td>C</td>\n",
              "      <td>0</td>\n",
              "    </tr>\n",
              "    <tr>\n",
              "      <th>27</th>\n",
              "      <td>28</td>\n",
              "      <td>1</td>\n",
              "      <td>Fortune, Mr. Charles Alexander</td>\n",
              "      <td>male</td>\n",
              "      <td>19.000000</td>\n",
              "      <td>3</td>\n",
              "      <td>2</td>\n",
              "      <td>19950</td>\n",
              "      <td>263.0000</td>\n",
              "      <td>C23 C25 C27</td>\n",
              "      <td>S</td>\n",
              "      <td>0</td>\n",
              "    </tr>\n",
              "    <tr>\n",
              "      <th>28</th>\n",
              "      <td>29</td>\n",
              "      <td>3</td>\n",
              "      <td>O'Dwyer, Miss. Ellen \"Nellie\"</td>\n",
              "      <td>female</td>\n",
              "      <td>29.881138</td>\n",
              "      <td>0</td>\n",
              "      <td>0</td>\n",
              "      <td>330959</td>\n",
              "      <td>7.8792</td>\n",
              "      <td>NaN</td>\n",
              "      <td>Q</td>\n",
              "      <td>1</td>\n",
              "    </tr>\n",
              "    <tr>\n",
              "      <th>29</th>\n",
              "      <td>30</td>\n",
              "      <td>3</td>\n",
              "      <td>Todoroff, Mr. Lalio</td>\n",
              "      <td>male</td>\n",
              "      <td>29.881138</td>\n",
              "      <td>0</td>\n",
              "      <td>0</td>\n",
              "      <td>349216</td>\n",
              "      <td>7.8958</td>\n",
              "      <td>NaN</td>\n",
              "      <td>S</td>\n",
              "      <td>0</td>\n",
              "    </tr>\n",
              "    <tr>\n",
              "      <th>...</th>\n",
              "      <td>...</td>\n",
              "      <td>...</td>\n",
              "      <td>...</td>\n",
              "      <td>...</td>\n",
              "      <td>...</td>\n",
              "      <td>...</td>\n",
              "      <td>...</td>\n",
              "      <td>...</td>\n",
              "      <td>...</td>\n",
              "      <td>...</td>\n",
              "      <td>...</td>\n",
              "      <td>...</td>\n",
              "    </tr>\n",
              "    <tr>\n",
              "      <th>1279</th>\n",
              "      <td>1280</td>\n",
              "      <td>3</td>\n",
              "      <td>Canavan, Mr. Patrick</td>\n",
              "      <td>male</td>\n",
              "      <td>21.000000</td>\n",
              "      <td>0</td>\n",
              "      <td>0</td>\n",
              "      <td>364858</td>\n",
              "      <td>7.7500</td>\n",
              "      <td>NaN</td>\n",
              "      <td>Q</td>\n",
              "      <td>0</td>\n",
              "    </tr>\n",
              "    <tr>\n",
              "      <th>1280</th>\n",
              "      <td>1281</td>\n",
              "      <td>3</td>\n",
              "      <td>Palsson, Master. Paul Folke</td>\n",
              "      <td>male</td>\n",
              "      <td>6.000000</td>\n",
              "      <td>3</td>\n",
              "      <td>1</td>\n",
              "      <td>349909</td>\n",
              "      <td>21.0750</td>\n",
              "      <td>NaN</td>\n",
              "      <td>S</td>\n",
              "      <td>0</td>\n",
              "    </tr>\n",
              "    <tr>\n",
              "      <th>1281</th>\n",
              "      <td>1282</td>\n",
              "      <td>1</td>\n",
              "      <td>Payne, Mr. Vivian Ponsonby</td>\n",
              "      <td>male</td>\n",
              "      <td>23.000000</td>\n",
              "      <td>0</td>\n",
              "      <td>0</td>\n",
              "      <td>12749</td>\n",
              "      <td>93.5000</td>\n",
              "      <td>B24</td>\n",
              "      <td>S</td>\n",
              "      <td>0</td>\n",
              "    </tr>\n",
              "    <tr>\n",
              "      <th>1282</th>\n",
              "      <td>1283</td>\n",
              "      <td>1</td>\n",
              "      <td>Lines, Mrs. Ernest H (Elizabeth Lindsey James)</td>\n",
              "      <td>female</td>\n",
              "      <td>51.000000</td>\n",
              "      <td>0</td>\n",
              "      <td>1</td>\n",
              "      <td>PC 17592</td>\n",
              "      <td>39.4000</td>\n",
              "      <td>D28</td>\n",
              "      <td>S</td>\n",
              "      <td>1</td>\n",
              "    </tr>\n",
              "    <tr>\n",
              "      <th>1283</th>\n",
              "      <td>1284</td>\n",
              "      <td>3</td>\n",
              "      <td>Abbott, Master. Eugene Joseph</td>\n",
              "      <td>male</td>\n",
              "      <td>13.000000</td>\n",
              "      <td>0</td>\n",
              "      <td>2</td>\n",
              "      <td>C.A. 2673</td>\n",
              "      <td>20.2500</td>\n",
              "      <td>NaN</td>\n",
              "      <td>S</td>\n",
              "      <td>0</td>\n",
              "    </tr>\n",
              "    <tr>\n",
              "      <th>1284</th>\n",
              "      <td>1285</td>\n",
              "      <td>2</td>\n",
              "      <td>Gilbert, Mr. William</td>\n",
              "      <td>male</td>\n",
              "      <td>47.000000</td>\n",
              "      <td>0</td>\n",
              "      <td>0</td>\n",
              "      <td>C.A. 30769</td>\n",
              "      <td>10.5000</td>\n",
              "      <td>NaN</td>\n",
              "      <td>S</td>\n",
              "      <td>0</td>\n",
              "    </tr>\n",
              "    <tr>\n",
              "      <th>1285</th>\n",
              "      <td>1286</td>\n",
              "      <td>3</td>\n",
              "      <td>Kink-Heilmann, Mr. Anton</td>\n",
              "      <td>male</td>\n",
              "      <td>29.000000</td>\n",
              "      <td>3</td>\n",
              "      <td>1</td>\n",
              "      <td>315153</td>\n",
              "      <td>22.0250</td>\n",
              "      <td>NaN</td>\n",
              "      <td>S</td>\n",
              "      <td>0</td>\n",
              "    </tr>\n",
              "    <tr>\n",
              "      <th>1286</th>\n",
              "      <td>1287</td>\n",
              "      <td>1</td>\n",
              "      <td>Smith, Mrs. Lucien Philip (Mary Eloise Hughes)</td>\n",
              "      <td>female</td>\n",
              "      <td>18.000000</td>\n",
              "      <td>1</td>\n",
              "      <td>0</td>\n",
              "      <td>13695</td>\n",
              "      <td>60.0000</td>\n",
              "      <td>C31</td>\n",
              "      <td>S</td>\n",
              "      <td>1</td>\n",
              "    </tr>\n",
              "    <tr>\n",
              "      <th>1287</th>\n",
              "      <td>1288</td>\n",
              "      <td>3</td>\n",
              "      <td>Colbert, Mr. Patrick</td>\n",
              "      <td>male</td>\n",
              "      <td>24.000000</td>\n",
              "      <td>0</td>\n",
              "      <td>0</td>\n",
              "      <td>371109</td>\n",
              "      <td>7.2500</td>\n",
              "      <td>NaN</td>\n",
              "      <td>Q</td>\n",
              "      <td>0</td>\n",
              "    </tr>\n",
              "    <tr>\n",
              "      <th>1288</th>\n",
              "      <td>1289</td>\n",
              "      <td>1</td>\n",
              "      <td>Frolicher-Stehli, Mrs. Maxmillian (Margaretha ...</td>\n",
              "      <td>female</td>\n",
              "      <td>48.000000</td>\n",
              "      <td>1</td>\n",
              "      <td>1</td>\n",
              "      <td>13567</td>\n",
              "      <td>79.2000</td>\n",
              "      <td>B41</td>\n",
              "      <td>C</td>\n",
              "      <td>1</td>\n",
              "    </tr>\n",
              "    <tr>\n",
              "      <th>1289</th>\n",
              "      <td>1290</td>\n",
              "      <td>3</td>\n",
              "      <td>Larsson-Rondberg, Mr. Edvard A</td>\n",
              "      <td>male</td>\n",
              "      <td>22.000000</td>\n",
              "      <td>0</td>\n",
              "      <td>0</td>\n",
              "      <td>347065</td>\n",
              "      <td>7.7750</td>\n",
              "      <td>NaN</td>\n",
              "      <td>S</td>\n",
              "      <td>0</td>\n",
              "    </tr>\n",
              "    <tr>\n",
              "      <th>1290</th>\n",
              "      <td>1291</td>\n",
              "      <td>3</td>\n",
              "      <td>Conlon, Mr. Thomas Henry</td>\n",
              "      <td>male</td>\n",
              "      <td>31.000000</td>\n",
              "      <td>0</td>\n",
              "      <td>0</td>\n",
              "      <td>21332</td>\n",
              "      <td>7.7333</td>\n",
              "      <td>NaN</td>\n",
              "      <td>Q</td>\n",
              "      <td>0</td>\n",
              "    </tr>\n",
              "    <tr>\n",
              "      <th>1291</th>\n",
              "      <td>1292</td>\n",
              "      <td>1</td>\n",
              "      <td>Bonnell, Miss. Caroline</td>\n",
              "      <td>female</td>\n",
              "      <td>30.000000</td>\n",
              "      <td>0</td>\n",
              "      <td>0</td>\n",
              "      <td>36928</td>\n",
              "      <td>164.8667</td>\n",
              "      <td>C7</td>\n",
              "      <td>S</td>\n",
              "      <td>1</td>\n",
              "    </tr>\n",
              "    <tr>\n",
              "      <th>1292</th>\n",
              "      <td>1293</td>\n",
              "      <td>2</td>\n",
              "      <td>Gale, Mr. Harry</td>\n",
              "      <td>male</td>\n",
              "      <td>38.000000</td>\n",
              "      <td>1</td>\n",
              "      <td>0</td>\n",
              "      <td>28664</td>\n",
              "      <td>21.0000</td>\n",
              "      <td>NaN</td>\n",
              "      <td>S</td>\n",
              "      <td>0</td>\n",
              "    </tr>\n",
              "    <tr>\n",
              "      <th>1293</th>\n",
              "      <td>1294</td>\n",
              "      <td>1</td>\n",
              "      <td>Gibson, Miss. Dorothy Winifred</td>\n",
              "      <td>female</td>\n",
              "      <td>22.000000</td>\n",
              "      <td>0</td>\n",
              "      <td>1</td>\n",
              "      <td>112378</td>\n",
              "      <td>59.4000</td>\n",
              "      <td>NaN</td>\n",
              "      <td>C</td>\n",
              "      <td>1</td>\n",
              "    </tr>\n",
              "    <tr>\n",
              "      <th>1294</th>\n",
              "      <td>1295</td>\n",
              "      <td>1</td>\n",
              "      <td>Carrau, Mr. Jose Pedro</td>\n",
              "      <td>male</td>\n",
              "      <td>17.000000</td>\n",
              "      <td>0</td>\n",
              "      <td>0</td>\n",
              "      <td>113059</td>\n",
              "      <td>47.1000</td>\n",
              "      <td>NaN</td>\n",
              "      <td>S</td>\n",
              "      <td>0</td>\n",
              "    </tr>\n",
              "    <tr>\n",
              "      <th>1295</th>\n",
              "      <td>1296</td>\n",
              "      <td>1</td>\n",
              "      <td>Frauenthal, Mr. Isaac Gerald</td>\n",
              "      <td>male</td>\n",
              "      <td>43.000000</td>\n",
              "      <td>1</td>\n",
              "      <td>0</td>\n",
              "      <td>17765</td>\n",
              "      <td>27.7208</td>\n",
              "      <td>D40</td>\n",
              "      <td>C</td>\n",
              "      <td>0</td>\n",
              "    </tr>\n",
              "    <tr>\n",
              "      <th>1296</th>\n",
              "      <td>1297</td>\n",
              "      <td>2</td>\n",
              "      <td>Nourney, Mr. Alfred (Baron von Drachstedt\")\"</td>\n",
              "      <td>male</td>\n",
              "      <td>20.000000</td>\n",
              "      <td>0</td>\n",
              "      <td>0</td>\n",
              "      <td>SC/PARIS 2166</td>\n",
              "      <td>13.8625</td>\n",
              "      <td>D38</td>\n",
              "      <td>C</td>\n",
              "      <td>0</td>\n",
              "    </tr>\n",
              "    <tr>\n",
              "      <th>1297</th>\n",
              "      <td>1298</td>\n",
              "      <td>2</td>\n",
              "      <td>Ware, Mr. William Jeffery</td>\n",
              "      <td>male</td>\n",
              "      <td>23.000000</td>\n",
              "      <td>1</td>\n",
              "      <td>0</td>\n",
              "      <td>28666</td>\n",
              "      <td>10.5000</td>\n",
              "      <td>NaN</td>\n",
              "      <td>S</td>\n",
              "      <td>0</td>\n",
              "    </tr>\n",
              "    <tr>\n",
              "      <th>1298</th>\n",
              "      <td>1299</td>\n",
              "      <td>1</td>\n",
              "      <td>Widener, Mr. George Dunton</td>\n",
              "      <td>male</td>\n",
              "      <td>50.000000</td>\n",
              "      <td>1</td>\n",
              "      <td>1</td>\n",
              "      <td>113503</td>\n",
              "      <td>211.5000</td>\n",
              "      <td>C80</td>\n",
              "      <td>C</td>\n",
              "      <td>0</td>\n",
              "    </tr>\n",
              "    <tr>\n",
              "      <th>1299</th>\n",
              "      <td>1300</td>\n",
              "      <td>3</td>\n",
              "      <td>Riordan, Miss. Johanna Hannah\"\"</td>\n",
              "      <td>female</td>\n",
              "      <td>29.881138</td>\n",
              "      <td>0</td>\n",
              "      <td>0</td>\n",
              "      <td>334915</td>\n",
              "      <td>7.7208</td>\n",
              "      <td>NaN</td>\n",
              "      <td>Q</td>\n",
              "      <td>1</td>\n",
              "    </tr>\n",
              "    <tr>\n",
              "      <th>1300</th>\n",
              "      <td>1301</td>\n",
              "      <td>3</td>\n",
              "      <td>Peacock, Miss. Treasteall</td>\n",
              "      <td>female</td>\n",
              "      <td>3.000000</td>\n",
              "      <td>1</td>\n",
              "      <td>1</td>\n",
              "      <td>SOTON/O.Q. 3101315</td>\n",
              "      <td>13.7750</td>\n",
              "      <td>NaN</td>\n",
              "      <td>S</td>\n",
              "      <td>1</td>\n",
              "    </tr>\n",
              "    <tr>\n",
              "      <th>1301</th>\n",
              "      <td>1302</td>\n",
              "      <td>3</td>\n",
              "      <td>Naughton, Miss. Hannah</td>\n",
              "      <td>female</td>\n",
              "      <td>29.881138</td>\n",
              "      <td>0</td>\n",
              "      <td>0</td>\n",
              "      <td>365237</td>\n",
              "      <td>7.7500</td>\n",
              "      <td>NaN</td>\n",
              "      <td>Q</td>\n",
              "      <td>1</td>\n",
              "    </tr>\n",
              "    <tr>\n",
              "      <th>1302</th>\n",
              "      <td>1303</td>\n",
              "      <td>1</td>\n",
              "      <td>Minahan, Mrs. William Edward (Lillian E Thorpe)</td>\n",
              "      <td>female</td>\n",
              "      <td>37.000000</td>\n",
              "      <td>1</td>\n",
              "      <td>0</td>\n",
              "      <td>19928</td>\n",
              "      <td>90.0000</td>\n",
              "      <td>C78</td>\n",
              "      <td>Q</td>\n",
              "      <td>1</td>\n",
              "    </tr>\n",
              "    <tr>\n",
              "      <th>1303</th>\n",
              "      <td>1304</td>\n",
              "      <td>3</td>\n",
              "      <td>Henriksson, Miss. Jenny Lovisa</td>\n",
              "      <td>female</td>\n",
              "      <td>28.000000</td>\n",
              "      <td>0</td>\n",
              "      <td>0</td>\n",
              "      <td>347086</td>\n",
              "      <td>7.7750</td>\n",
              "      <td>NaN</td>\n",
              "      <td>S</td>\n",
              "      <td>1</td>\n",
              "    </tr>\n",
              "    <tr>\n",
              "      <th>1304</th>\n",
              "      <td>1305</td>\n",
              "      <td>3</td>\n",
              "      <td>Spector, Mr. Woolf</td>\n",
              "      <td>male</td>\n",
              "      <td>29.881138</td>\n",
              "      <td>0</td>\n",
              "      <td>0</td>\n",
              "      <td>A.5. 3236</td>\n",
              "      <td>8.0500</td>\n",
              "      <td>NaN</td>\n",
              "      <td>S</td>\n",
              "      <td>0</td>\n",
              "    </tr>\n",
              "    <tr>\n",
              "      <th>1305</th>\n",
              "      <td>1306</td>\n",
              "      <td>1</td>\n",
              "      <td>Oliva y Ocana, Dona. Fermina</td>\n",
              "      <td>female</td>\n",
              "      <td>39.000000</td>\n",
              "      <td>0</td>\n",
              "      <td>0</td>\n",
              "      <td>PC 17758</td>\n",
              "      <td>108.9000</td>\n",
              "      <td>C105</td>\n",
              "      <td>C</td>\n",
              "      <td>1</td>\n",
              "    </tr>\n",
              "    <tr>\n",
              "      <th>1306</th>\n",
              "      <td>1307</td>\n",
              "      <td>3</td>\n",
              "      <td>Saether, Mr. Simon Sivertsen</td>\n",
              "      <td>male</td>\n",
              "      <td>38.500000</td>\n",
              "      <td>0</td>\n",
              "      <td>0</td>\n",
              "      <td>SOTON/O.Q. 3101262</td>\n",
              "      <td>7.2500</td>\n",
              "      <td>NaN</td>\n",
              "      <td>S</td>\n",
              "      <td>0</td>\n",
              "    </tr>\n",
              "    <tr>\n",
              "      <th>1307</th>\n",
              "      <td>1308</td>\n",
              "      <td>3</td>\n",
              "      <td>Ware, Mr. Frederick</td>\n",
              "      <td>male</td>\n",
              "      <td>29.881138</td>\n",
              "      <td>0</td>\n",
              "      <td>0</td>\n",
              "      <td>359309</td>\n",
              "      <td>8.0500</td>\n",
              "      <td>NaN</td>\n",
              "      <td>S</td>\n",
              "      <td>0</td>\n",
              "    </tr>\n",
              "    <tr>\n",
              "      <th>1308</th>\n",
              "      <td>1309</td>\n",
              "      <td>3</td>\n",
              "      <td>Peter, Master. Michael J</td>\n",
              "      <td>male</td>\n",
              "      <td>29.881138</td>\n",
              "      <td>1</td>\n",
              "      <td>1</td>\n",
              "      <td>2668</td>\n",
              "      <td>22.3583</td>\n",
              "      <td>NaN</td>\n",
              "      <td>C</td>\n",
              "      <td>0</td>\n",
              "    </tr>\n",
              "  </tbody>\n",
              "</table>\n",
              "<p>1307 rows × 12 columns</p>\n",
              "</div>"
            ],
            "text/plain": [
              "      PassengerId  Pclass  ... Embarked Survived\n",
              "0               1       3  ...        S        0\n",
              "1               2       1  ...        C        1\n",
              "2               3       3  ...        S        1\n",
              "3               4       1  ...        S        1\n",
              "4               5       3  ...        S        0\n",
              "5               6       3  ...        Q        0\n",
              "6               7       1  ...        S        0\n",
              "7               8       3  ...        S        0\n",
              "8               9       3  ...        S        1\n",
              "9              10       2  ...        C        1\n",
              "10             11       3  ...        S        1\n",
              "11             12       1  ...        S        1\n",
              "12             13       3  ...        S        0\n",
              "13             14       3  ...        S        0\n",
              "14             15       3  ...        S        0\n",
              "15             16       2  ...        S        1\n",
              "16             17       3  ...        Q        0\n",
              "17             18       2  ...        S        1\n",
              "18             19       3  ...        S        0\n",
              "19             20       3  ...        C        1\n",
              "20             21       2  ...        S        0\n",
              "21             22       2  ...        S        1\n",
              "22             23       3  ...        Q        1\n",
              "23             24       1  ...        S        1\n",
              "24             25       3  ...        S        0\n",
              "25             26       3  ...        S        1\n",
              "26             27       3  ...        C        0\n",
              "27             28       1  ...        S        0\n",
              "28             29       3  ...        Q        1\n",
              "29             30       3  ...        S        0\n",
              "...           ...     ...  ...      ...      ...\n",
              "1279         1280       3  ...        Q        0\n",
              "1280         1281       3  ...        S        0\n",
              "1281         1282       1  ...        S        0\n",
              "1282         1283       1  ...        S        1\n",
              "1283         1284       3  ...        S        0\n",
              "1284         1285       2  ...        S        0\n",
              "1285         1286       3  ...        S        0\n",
              "1286         1287       1  ...        S        1\n",
              "1287         1288       3  ...        Q        0\n",
              "1288         1289       1  ...        C        1\n",
              "1289         1290       3  ...        S        0\n",
              "1290         1291       3  ...        Q        0\n",
              "1291         1292       1  ...        S        1\n",
              "1292         1293       2  ...        S        0\n",
              "1293         1294       1  ...        C        1\n",
              "1294         1295       1  ...        S        0\n",
              "1295         1296       1  ...        C        0\n",
              "1296         1297       2  ...        C        0\n",
              "1297         1298       2  ...        S        0\n",
              "1298         1299       1  ...        C        0\n",
              "1299         1300       3  ...        Q        1\n",
              "1300         1301       3  ...        S        1\n",
              "1301         1302       3  ...        Q        1\n",
              "1302         1303       1  ...        Q        1\n",
              "1303         1304       3  ...        S        1\n",
              "1304         1305       3  ...        S        0\n",
              "1305         1306       1  ...        C        1\n",
              "1306         1307       3  ...        S        0\n",
              "1307         1308       3  ...        S        0\n",
              "1308         1309       3  ...        C        0\n",
              "\n",
              "[1307 rows x 12 columns]"
            ]
          },
          "metadata": {
            "tags": []
          },
          "execution_count": 20
        }
      ]
    },
    {
      "cell_type": "markdown",
      "metadata": {
        "id": "YloEvd-uNALq",
        "colab_type": "text"
      },
      "source": [
        "Note that you should be careful with what attributes you actually check for duplicates. For example, if we check for duplicates in ticket number like in the code below, it'll turn out that there are duplicates for that attribute. However, a closer look shows us that those having same ticket numbers are siblings or couples hence these duplicates are valid and should not be removed since they represent different people."
      ]
    },
    {
      "cell_type": "code",
      "metadata": {
        "id": "9b6_vG1SNo0I",
        "colab_type": "code",
        "colab": {
          "base_uri": "https://localhost:8080/",
          "height": 1000
        },
        "outputId": "41111881-30ea-4313-fb36-865d42ca7a66"
      },
      "source": [
        "print(df.duplicated('Ticket'))\n",
        "print('\\n These duplicates exist at:')\n",
        "df[df.duplicated('Ticket')].index  # To check where these duplicates are present (at what indices)"
      ],
      "execution_count": 21,
      "outputs": [
        {
          "output_type": "stream",
          "text": [
            "0       False\n",
            "1       False\n",
            "2       False\n",
            "3       False\n",
            "4       False\n",
            "5       False\n",
            "6       False\n",
            "7       False\n",
            "8       False\n",
            "9       False\n",
            "10      False\n",
            "11      False\n",
            "12      False\n",
            "13      False\n",
            "14      False\n",
            "15      False\n",
            "16      False\n",
            "17      False\n",
            "18      False\n",
            "19      False\n",
            "20      False\n",
            "21      False\n",
            "22      False\n",
            "23      False\n",
            "24       True\n",
            "25      False\n",
            "26      False\n",
            "27      False\n",
            "28      False\n",
            "29      False\n",
            "        ...  \n",
            "1279    False\n",
            "1280     True\n",
            "1281     True\n",
            "1282     True\n",
            "1283     True\n",
            "1284    False\n",
            "1285     True\n",
            "1286     True\n",
            "1287    False\n",
            "1288     True\n",
            "1289    False\n",
            "1290    False\n",
            "1291     True\n",
            "1292     True\n",
            "1293     True\n",
            "1294     True\n",
            "1295    False\n",
            "1296    False\n",
            "1297    False\n",
            "1298     True\n",
            "1299    False\n",
            "1300     True\n",
            "1301    False\n",
            "1302     True\n",
            "1303    False\n",
            "1304    False\n",
            "1305     True\n",
            "1306    False\n",
            "1307    False\n",
            "1308     True\n",
            "Length: 1307, dtype: bool\n",
            "\n",
            " These duplicates exist at:\n"
          ],
          "name": "stdout"
        },
        {
          "output_type": "execute_result",
          "data": {
            "text/plain": [
              "Int64Index([  24,   71,   88,  117,  119,  120,  122,  124,  125,  137,\n",
              "            ...\n",
              "            1288, 1291, 1292, 1293, 1294, 1298, 1300, 1302, 1305, 1308],\n",
              "           dtype='int64', length=379)"
            ]
          },
          "metadata": {
            "tags": []
          },
          "execution_count": 21
        }
      ]
    },
    {
      "cell_type": "markdown",
      "metadata": {
        "id": "Xd882BJiiiBk",
        "colab_type": "text"
      },
      "source": [
        "## Column Reduction (Dimensionality Reduction)"
      ]
    },
    {
      "cell_type": "markdown",
      "metadata": {
        "id": "w6eG6sLJim0T",
        "colab_type": "text"
      },
      "source": [
        "Since Cabin has many missing values and might not contribute a lot to the survival probability, we can drop it. Moreover, as we've seen before, Ticket has many duplicates and is also not related to survival. Hence it'll be dropped as well. Similarly, PassengerId and Name are not correlated with survival and can be dropped."
      ]
    },
    {
      "cell_type": "code",
      "metadata": {
        "id": "zOb_Sjs3iuYk",
        "colab_type": "code",
        "outputId": "d28961d5-cd77-41db-9e4b-b10dd7338e70",
        "colab": {
          "base_uri": "https://localhost:8080/",
          "height": 170
        }
      },
      "source": [
        "df = df.drop(['Cabin', 'Ticket', 'PassengerId', 'Name'], axis=1)\n",
        "df.count()"
      ],
      "execution_count": 22,
      "outputs": [
        {
          "output_type": "execute_result",
          "data": {
            "text/plain": [
              "Pclass      1307\n",
              "Sex         1307\n",
              "Age         1307\n",
              "SibSp       1307\n",
              "Parch       1307\n",
              "Fare        1307\n",
              "Embarked    1307\n",
              "Survived    1307\n",
              "dtype: int64"
            ]
          },
          "metadata": {
            "tags": []
          },
          "execution_count": 22
        }
      ]
    },
    {
      "cell_type": "markdown",
      "metadata": {
        "id": "QYOAjPZwP3ph",
        "colab_type": "text"
      },
      "source": [
        "## Outliers"
      ]
    },
    {
      "cell_type": "markdown",
      "metadata": {
        "id": "1oj0O1s5TVXC",
        "colab_type": "text"
      },
      "source": [
        "## Using the equation"
      ]
    },
    {
      "cell_type": "markdown",
      "metadata": {
        "id": "e9g8NB-1TZxY",
        "colab_type": "text"
      },
      "source": [
        "As you recall in the guide, a known way to detect outliers can be by calculating IQR (inter-quartile range) and then, all points above Q3+1.5xIQR or below Q1-1.5xIQR can be considered outliers. Outliers are usually searched for in continuous-valued attributes like Age and Fare here. Others have certain categories, hence no possibility for weird or unconsidered data values. Let us try to apply the above formulation to Age and Fare."
      ]
    },
    {
      "cell_type": "code",
      "metadata": {
        "id": "yyUAZIqxUgGM",
        "colab_type": "code",
        "outputId": "d0c5ec8a-d202-4cb5-e76a-a849c494b06b",
        "colab": {
          "base_uri": "https://localhost:8080/",
          "height": 119
        }
      },
      "source": [
        "# For Age\n",
        "Q1_age = np.percentile(df['Age'],25)\n",
        "Q3_age = np.percentile(df['Age'],75)\n",
        "IQR = Q3_age - Q1_age \n",
        "outlier_score_upper = Q3_age + IQR*1.5 \n",
        "outlier_score_lower = Q1_age - IQR*1.5 \n",
        "\n",
        "print('First quartile for age = ',Q1_age)\n",
        "print('Third quartile for age = ',Q3_age)\n",
        "print('Interquartile range age = ',IQR)\n",
        "print('Upper Outlier Threshold = ',outlier_score_upper)\n",
        "print('Lower Outlier Threshold = ',outlier_score_lower)\n",
        "\n",
        "# Let's see which values are considered outliers according to the formulation\n",
        "out_age = df[df['Age'] > outlier_score_upper].index  \n",
        "out_age_2 = df[df['Age'] < outlier_score_lower].index\n",
        "print('The number of outliers: ', len(out_age)+len(out_age_2))"
      ],
      "execution_count": 0,
      "outputs": [
        {
          "output_type": "stream",
          "text": [
            "First quartile for age =  22.0\n",
            "Third quartile for age =  35.0\n",
            "Interquartile range age =  13.0\n",
            "Upper Outlier Threshold =  54.5\n",
            "Lower Outlier Threshold =  2.5\n",
            "The number of outliers:  100\n"
          ],
          "name": "stdout"
        }
      ]
    },
    {
      "cell_type": "markdown",
      "metadata": {
        "id": "U9dEXyabY5UG",
        "colab_type": "text"
      },
      "source": [
        "If we observe the results above, we can see that ages above 54.5 and below 2.5 are considered outliers according to the formulation. However, these ages are considered normal in addition to playing an important role in figuring out survival, so we decided to keep them. "
      ]
    },
    {
      "cell_type": "code",
      "metadata": {
        "id": "PB_KjAvAa1Jg",
        "colab_type": "code",
        "outputId": "d2bc5576-e3da-4621-9951-1a41c190d125",
        "colab": {
          "base_uri": "https://localhost:8080/",
          "height": 119
        }
      },
      "source": [
        "# For Fare\n",
        "Q1_fare = np.percentile(df['Fare'],25)\n",
        "Q3_fare = np.percentile(df['Fare'],75)\n",
        "IQR_fare = Q3_fare - Q1_fare\n",
        "outlier_score_upper = Q3_fare + IQR_fare*1.5 \n",
        "outlier_score_lower = Q1_fare - IQR_fare*1.5 \n",
        "\n",
        "print('First quartile for ticket prices = ',Q1_fare)\n",
        "print('Third quartile for ticket prices = ',Q3_fare)\n",
        "print('Interquartile range for ticket prices = ',IQR_fare)\n",
        "print('Upper Outlier Threshold for ticket prices = ',outlier_score_upper)\n",
        "print('Lower Outlier Threshold for ticket prices = ',outlier_score_lower)\n",
        "\n",
        "# Let's see which values are considered outliers according to the formulation\n",
        "out_fare = df[df['Fare'] > outlier_score_upper].index  \n",
        "out_fare_2 = df[df['Fare'] < outlier_score_lower].index\n",
        "print('The number of outliers: ', len(out_fare)+len(out_fare_2))"
      ],
      "execution_count": 0,
      "outputs": [
        {
          "output_type": "stream",
          "text": [
            "First quartile for ticket prices =  7.8958\n",
            "Third quartile for ticket prices =  31.275\n",
            "Interquartile range for ticket prices =  23.379199999999997\n",
            "Upper Outlier Threshold for ticket prices =  66.34379999999999\n",
            "Lower Outlier Threshold for ticket prices =  -27.172999999999995\n",
            "The number of outliers:  169\n"
          ],
          "name": "stdout"
        }
      ]
    },
    {
      "cell_type": "markdown",
      "metadata": {
        "id": "p4gLYxFJb1kH",
        "colab_type": "text"
      },
      "source": [
        "Using this formulation gave us a big amount of outliers. We will find out next that this is not the best way to identify outliers since we need to take into consideration the case. A better way can be through visualization of the data, which is what we're doing next."
      ]
    },
    {
      "cell_type": "markdown",
      "metadata": {
        "id": "RJhBn0BDP-Lo",
        "colab_type": "text"
      },
      "source": [
        "### Using Visualization (Boxplots)"
      ]
    },
    {
      "cell_type": "markdown",
      "metadata": {
        "id": "_a8Ft9PjQMpV",
        "colab_type": "text"
      },
      "source": [
        "Let us try to observe outliers for Fare using boxplots."
      ]
    },
    {
      "cell_type": "code",
      "metadata": {
        "id": "Hw6hZm21QFjd",
        "colab_type": "code",
        "outputId": "466069c3-74f0-4eba-94be-1d34f8a334eb",
        "colab": {
          "base_uri": "https://localhost:8080/",
          "height": 570
        }
      },
      "source": [
        "df.boxplot(column=['Fare'])\n",
        "df.boxplot(column=['Fare'], by='Survived')"
      ],
      "execution_count": 23,
      "outputs": [
        {
          "output_type": "execute_result",
          "data": {
            "text/plain": [
              "<matplotlib.axes._subplots.AxesSubplot at 0x7f270e3144e0>"
            ]
          },
          "metadata": {
            "tags": []
          },
          "execution_count": 23
        },
        {
          "output_type": "display_data",
          "data": {
            "image/png": "[encoded data removed]",
            "text/plain": [
              "<Figure size 432x288 with 1 Axes>"
            ]
          },
          "metadata": {
            "tags": []
          }
        },
        {
          "output_type": "display_data",
          "data": {
            "image/png": "[encoded data removed]",
            "text/plain": [
              "<Figure size 432x288 with 1 Axes>"
            ]
          },
          "metadata": {
            "tags": []
          }
        }
      ]
    },
    {
      "cell_type": "markdown",
      "metadata": {
        "id": "JdhvW8s_eL3Y",
        "colab_type": "text"
      },
      "source": [
        "From the plot above, we can see that dropping all prices above 66 doesn't seem logical anymore since by doing so, we're losing a lot of useful information. Moreover, we can now easily see which outliers are really far from the data and hence, which to drop. Above, we can see an obvious outlier above 500. This is better dropped since it might lead the model later to take biased decisions for ticket prices close to 500 (according to the only data it sees present there). For example, ticket prices above 500 here are associated only with survival. Therefore, if a test passenger comes later with ticket price above 500, the model will directly assume he/she will survive. This is also observed when checking if the data is balanced."
      ]
    },
    {
      "cell_type": "code",
      "metadata": {
        "id": "QUVvtZ5HfD8g",
        "colab_type": "code",
        "outputId": "29bdf843-1caf-4938-e4f5-f6d9de80da2d",
        "colab": {
          "base_uri": "https://localhost:8080/",
          "height": 102
        }
      },
      "source": [
        "# Drop Fare Outliers\n",
        "fare_outliers = df[df['Fare']>500]\n",
        "print(fare_outliers)  # Print the outlier rows\n",
        "df.drop(fare_outliers.index, inplace=True)"
      ],
      "execution_count": 24,
      "outputs": [
        {
          "output_type": "stream",
          "text": [
            "      Pclass     Sex   Age  SibSp  Parch      Fare Embarked  Survived\n",
            "258        1  female  35.0      0      0  512.3292        C         1\n",
            "679        1    male  36.0      0      1  512.3292        C         1\n",
            "737        1    male  35.0      0      0  512.3292        C         1\n",
            "1234       1  female  58.0      0      1  512.3292        C         1\n"
          ],
          "name": "stdout"
        }
      ]
    },
    {
      "cell_type": "markdown",
      "metadata": {
        "id": "t8tTeOxuy3MW",
        "colab_type": "text"
      },
      "source": [
        "# Data Transformation"
      ]
    },
    {
      "cell_type": "markdown",
      "metadata": {
        "id": "k50TTOOfy_oe",
        "colab_type": "text"
      },
      "source": [
        "## Normalization"
      ]
    },
    {
      "cell_type": "markdown",
      "metadata": {
        "id": "KITsuOk8zCEk",
        "colab_type": "text"
      },
      "source": [
        "Observing boxplots of Fare (before) and Age (below), we can notice that the data is skewed. That is, the distribution over the attribute values is not uniform and there is a big difference range among most values, where we can see most passengers lie below 30s in Age and Fare (third quartile indicates the ceiling for 75% of the data). In such case, it's better to normalize the values, so that significantly larger or smaller values don't give wrong indications to the model, and so that the model doesn't become biased.\n",
        "Normalizing can be done using either min-max or the z-score ((x-mean)/std). The latter is better when you're normalizing the target variable (which is to be predicted later) since it needs to be reversible. Here, we will normalize using maximum."
      ]
    },
    {
      "cell_type": "markdown",
      "metadata": {
        "id": "WauArK0AZwMR",
        "colab_type": "text"
      },
      "source": [
        "When different numerical attributes have different value ranges, it's better to normalize them so that no attribute is preferred over another by the model only due to the difference in value. Same goes to every attribute on its own, we basically want the model to focus on the RELATIVE values (relative to each other, the distance between them) and not the actual values (so that significantly larger or smaller values don't give wrong indications to the model).\n",
        "Normalizing can be done using either min-max or the z-score ((x-mean)/std). The latter is better when you're normalizing the target variable (which is to be predicted later) since it needs to be reversible. Here, we will normalize using maximum."
      ]
    },
    {
      "cell_type": "code",
      "metadata": {
        "id": "nU2jVH85uf2E",
        "colab_type": "code",
        "outputId": "58a576cb-92ed-4d75-e4ef-cdd8a4bda6f4",
        "colab": {
          "base_uri": "https://localhost:8080/",
          "height": 286
        }
      },
      "source": [
        "# Age Boxplot\n",
        "df.boxplot(column=['Age'])"
      ],
      "execution_count": 25,
      "outputs": [
        {
          "output_type": "execute_result",
          "data": {
            "text/plain": [
              "<matplotlib.axes._subplots.AxesSubplot at 0x7f270e2f30b8>"
            ]
          },
          "metadata": {
            "tags": []
          },
          "execution_count": 25
        },
        {
          "output_type": "display_data",
          "data": {
            "image/png": "[encoded data removed]",
            "text/plain": [
              "<Figure size 432x288 with 1 Axes>"
            ]
          },
          "metadata": {
            "tags": []
          }
        }
      ]
    },
    {
      "cell_type": "code",
      "metadata": {
        "id": "41c2chTvuiiT",
        "colab_type": "code",
        "outputId": "63fbce87-ab7f-4f8e-e7b5-303841ff150c",
        "colab": {
          "base_uri": "https://localhost:8080/",
          "height": 297
        }
      },
      "source": [
        "# Normalize Age \n",
        "max_age = max(df['Age'])\n",
        "df['Age'] = df['Age']/max_age\n",
        "\n",
        "# Normaliza Fare\n",
        "max_fare = max(df['Fare'])\n",
        "df['Fare'] = df['Fare']/max_fare\n",
        "\n",
        "df.describe()"
      ],
      "execution_count": 26,
      "outputs": [
        {
          "output_type": "execute_result",
          "data": {
            "text/html": [
              "<div>\n",
              "<style scoped>\n",
              "    .dataframe tbody tr th:only-of-type {\n",
              "        vertical-align: middle;\n",
              "    }\n",
              "\n",
              "    .dataframe tbody tr th {\n",
              "        vertical-align: top;\n",
              "    }\n",
              "\n",
              "    .dataframe thead th {\n",
              "        text-align: right;\n",
              "    }\n",
              "</style>\n",
              "<table border=\"1\" class=\"dataframe\">\n",
              "  <thead>\n",
              "    <tr style=\"text-align: right;\">\n",
              "      <th></th>\n",
              "      <th>Pclass</th>\n",
              "      <th>Age</th>\n",
              "      <th>SibSp</th>\n",
              "      <th>Parch</th>\n",
              "      <th>Fare</th>\n",
              "      <th>Survived</th>\n",
              "    </tr>\n",
              "  </thead>\n",
              "  <tbody>\n",
              "    <tr>\n",
              "      <th>count</th>\n",
              "      <td>1303.000000</td>\n",
              "      <td>1303.000000</td>\n",
              "      <td>1303.000000</td>\n",
              "      <td>1303.000000</td>\n",
              "      <td>1303.000000</td>\n",
              "      <td>1303.000000</td>\n",
              "    </tr>\n",
              "    <tr>\n",
              "      <th>mean</th>\n",
              "      <td>2.300844</td>\n",
              "      <td>0.372702</td>\n",
              "      <td>0.501151</td>\n",
              "      <td>0.385265</td>\n",
              "      <td>0.120735</td>\n",
              "      <td>0.374520</td>\n",
              "    </tr>\n",
              "    <tr>\n",
              "      <th>std</th>\n",
              "      <td>0.835130</td>\n",
              "      <td>0.160671</td>\n",
              "      <td>1.043504</td>\n",
              "      <td>0.866955</td>\n",
              "      <td>0.169128</td>\n",
              "      <td>0.484185</td>\n",
              "    </tr>\n",
              "    <tr>\n",
              "      <th>min</th>\n",
              "      <td>1.000000</td>\n",
              "      <td>0.002125</td>\n",
              "      <td>0.000000</td>\n",
              "      <td>0.000000</td>\n",
              "      <td>0.000000</td>\n",
              "      <td>0.000000</td>\n",
              "    </tr>\n",
              "    <tr>\n",
              "      <th>25%</th>\n",
              "      <td>2.000000</td>\n",
              "      <td>0.275000</td>\n",
              "      <td>0.000000</td>\n",
              "      <td>0.000000</td>\n",
              "      <td>0.030022</td>\n",
              "      <td>0.000000</td>\n",
              "    </tr>\n",
              "    <tr>\n",
              "      <th>50%</th>\n",
              "      <td>3.000000</td>\n",
              "      <td>0.373514</td>\n",
              "      <td>0.000000</td>\n",
              "      <td>0.000000</td>\n",
              "      <td>0.054959</td>\n",
              "      <td>0.000000</td>\n",
              "    </tr>\n",
              "    <tr>\n",
              "      <th>75%</th>\n",
              "      <td>3.000000</td>\n",
              "      <td>0.437500</td>\n",
              "      <td>1.000000</td>\n",
              "      <td>0.000000</td>\n",
              "      <td>0.117871</td>\n",
              "      <td>1.000000</td>\n",
              "    </tr>\n",
              "    <tr>\n",
              "      <th>max</th>\n",
              "      <td>3.000000</td>\n",
              "      <td>1.000000</td>\n",
              "      <td>8.000000</td>\n",
              "      <td>9.000000</td>\n",
              "      <td>1.000000</td>\n",
              "      <td>1.000000</td>\n",
              "    </tr>\n",
              "  </tbody>\n",
              "</table>\n",
              "</div>"
            ],
            "text/plain": [
              "            Pclass          Age  ...         Fare     Survived\n",
              "count  1303.000000  1303.000000  ...  1303.000000  1303.000000\n",
              "mean      2.300844     0.372702  ...     0.120735     0.374520\n",
              "std       0.835130     0.160671  ...     0.169128     0.484185\n",
              "min       1.000000     0.002125  ...     0.000000     0.000000\n",
              "25%       2.000000     0.275000  ...     0.030022     0.000000\n",
              "50%       3.000000     0.373514  ...     0.054959     0.000000\n",
              "75%       3.000000     0.437500  ...     0.117871     1.000000\n",
              "max       3.000000     1.000000  ...     1.000000     1.000000\n",
              "\n",
              "[8 rows x 6 columns]"
            ]
          },
          "metadata": {
            "tags": []
          },
          "execution_count": 26
        }
      ]
    },
    {
      "cell_type": "markdown",
      "metadata": {
        "id": "cKxGMNS41GOe",
        "colab_type": "text"
      },
      "source": [
        "## Encoding"
      ]
    },
    {
      "cell_type": "markdown",
      "metadata": {
        "id": "3RJ7rXGS1L8U",
        "colab_type": "text"
      },
      "source": [
        "Since we need to give the model the data in numerical form, we still have to encode Sex and Embarked to change them into numbers. Encoding assigns a number (integer or binary or others) to every class in the categorical attribute. Let's try to substitute female with 1 and male with 0 for sex (binary encoding), and assign a number for each of S, C, and Q in Embarked."
      ]
    },
    {
      "cell_type": "code",
      "metadata": {
        "id": "waewtPIo36Pu",
        "colab_type": "code",
        "outputId": "e6651e4d-7b5a-4b43-affc-b341041f7ea2",
        "colab": {
          "base_uri": "https://localhost:8080/",
          "height": 354
        }
      },
      "source": [
        "print(df.head(6))  # Observe the attribute values for the first 6 users (rows)\n",
        "\n",
        "# Encode Sex Attribute\n",
        "df['Sex'] = df['Sex'].map( {'female': 1, 'male': 0} ).astype(int)\n",
        "\n",
        "# Encode Embarked Attribute\n",
        "lb_make = preprocessing.LabelEncoder()\n",
        "df['Embarked'] = lb_make.fit_transform(df['Embarked'])\n",
        "\n",
        "df.head(6)"
      ],
      "execution_count": 27,
      "outputs": [
        {
          "output_type": "stream",
          "text": [
            "   Pclass     Sex       Age  SibSp  Parch      Fare Embarked  Survived\n",
            "0       3    male  0.275000      1      0  0.027567        S         0\n",
            "1       1  female  0.475000      1      0  0.271039        C         1\n",
            "2       3  female  0.325000      0      0  0.030133        S         1\n",
            "3       1  female  0.437500      1      0  0.201901        S         1\n",
            "4       3    male  0.437500      0      0  0.030608        S         0\n",
            "5       3    male  0.373514      0      0  0.032161        Q         0\n"
          ],
          "name": "stdout"
        },
        {
          "output_type": "execute_result",
          "data": {
            "text/html": [
              "<div>\n",
              "<style scoped>\n",
              "    .dataframe tbody tr th:only-of-type {\n",
              "        vertical-align: middle;\n",
              "    }\n",
              "\n",
              "    .dataframe tbody tr th {\n",
              "        vertical-align: top;\n",
              "    }\n",
              "\n",
              "    .dataframe thead th {\n",
              "        text-align: right;\n",
              "    }\n",
              "</style>\n",
              "<table border=\"1\" class=\"dataframe\">\n",
              "  <thead>\n",
              "    <tr style=\"text-align: right;\">\n",
              "      <th></th>\n",
              "      <th>Pclass</th>\n",
              "      <th>Sex</th>\n",
              "      <th>Age</th>\n",
              "      <th>SibSp</th>\n",
              "      <th>Parch</th>\n",
              "      <th>Fare</th>\n",
              "      <th>Embarked</th>\n",
              "      <th>Survived</th>\n",
              "    </tr>\n",
              "  </thead>\n",
              "  <tbody>\n",
              "    <tr>\n",
              "      <th>0</th>\n",
              "      <td>3</td>\n",
              "      <td>0</td>\n",
              "      <td>0.275000</td>\n",
              "      <td>1</td>\n",
              "      <td>0</td>\n",
              "      <td>0.027567</td>\n",
              "      <td>2</td>\n",
              "      <td>0</td>\n",
              "    </tr>\n",
              "    <tr>\n",
              "      <th>1</th>\n",
              "      <td>1</td>\n",
              "      <td>1</td>\n",
              "      <td>0.475000</td>\n",
              "      <td>1</td>\n",
              "      <td>0</td>\n",
              "      <td>0.271039</td>\n",
              "      <td>0</td>\n",
              "      <td>1</td>\n",
              "    </tr>\n",
              "    <tr>\n",
              "      <th>2</th>\n",
              "      <td>3</td>\n",
              "      <td>1</td>\n",
              "      <td>0.325000</td>\n",
              "      <td>0</td>\n",
              "      <td>0</td>\n",
              "      <td>0.030133</td>\n",
              "      <td>2</td>\n",
              "      <td>1</td>\n",
              "    </tr>\n",
              "    <tr>\n",
              "      <th>3</th>\n",
              "      <td>1</td>\n",
              "      <td>1</td>\n",
              "      <td>0.437500</td>\n",
              "      <td>1</td>\n",
              "      <td>0</td>\n",
              "      <td>0.201901</td>\n",
              "      <td>2</td>\n",
              "      <td>1</td>\n",
              "    </tr>\n",
              "    <tr>\n",
              "      <th>4</th>\n",
              "      <td>3</td>\n",
              "      <td>0</td>\n",
              "      <td>0.437500</td>\n",
              "      <td>0</td>\n",
              "      <td>0</td>\n",
              "      <td>0.030608</td>\n",
              "      <td>2</td>\n",
              "      <td>0</td>\n",
              "    </tr>\n",
              "    <tr>\n",
              "      <th>5</th>\n",
              "      <td>3</td>\n",
              "      <td>0</td>\n",
              "      <td>0.373514</td>\n",
              "      <td>0</td>\n",
              "      <td>0</td>\n",
              "      <td>0.032161</td>\n",
              "      <td>1</td>\n",
              "      <td>0</td>\n",
              "    </tr>\n",
              "  </tbody>\n",
              "</table>\n",
              "</div>"
            ],
            "text/plain": [
              "   Pclass  Sex       Age  SibSp  Parch      Fare  Embarked  Survived\n",
              "0       3    0  0.275000      1      0  0.027567         2         0\n",
              "1       1    1  0.475000      1      0  0.271039         0         1\n",
              "2       3    1  0.325000      0      0  0.030133         2         1\n",
              "3       1    1  0.437500      1      0  0.201901         2         1\n",
              "4       3    0  0.437500      0      0  0.030608         2         0\n",
              "5       3    0  0.373514      0      0  0.032161         1         0"
            ]
          },
          "metadata": {
            "tags": []
          },
          "execution_count": 27
        }
      ]
    },
    {
      "cell_type": "markdown",
      "metadata": {
        "id": "38UknHYz508B",
        "colab_type": "text"
      },
      "source": [
        "We can see that the encoding assigned a 0 for C, 1 for Q, and 2 for S. We are now done preprocessing the data, and it's ready to be used. Let's save the processed and clean data to be used later by the models."
      ]
    },
    {
      "cell_type": "code",
      "metadata": {
        "id": "DWJyHtEsGj_v",
        "colab_type": "code",
        "colab": {}
      },
      "source": [
        "with open('gdrive/My Drive/Colab Notebooks/Summer School/clean_dataset.pickle', 'wb') as output:\n",
        "    pickle.dump(df, output)"
      ],
      "execution_count": 0,
      "outputs": []
    },
    {
      "cell_type": "markdown",
      "metadata": {
        "id": "GnrCNwu56NqT",
        "colab_type": "text"
      },
      "source": [
        "# Data Visualization"
      ]
    },
    {
      "cell_type": "markdown",
      "metadata": {
        "id": "n5eJ-dfv71eh",
        "colab_type": "text"
      },
      "source": [
        "Visualizing data is extremely important in deciding what preprocessing steps are needed and in evaluating the importance and the effect of certain attributes on the targetted variable. In what follows, we will try different plots and analyze correlations between different variables. "
      ]
    },
    {
      "cell_type": "code",
      "metadata": {
        "id": "MEWxIfOM-Uhn",
        "colab_type": "code",
        "colab": {}
      },
      "source": [
        "# We need the data before normalization and encoding to better analyze it\n",
        "df = pd.read_csv(\"gdrive/My Drive/Colab Notebooks/Summer School/titanic_dataset.csv\")\n",
        "df.fillna(df.mean(), inplace=True)"
      ],
      "execution_count": 0,
      "outputs": []
    },
    {
      "cell_type": "markdown",
      "metadata": {
        "id": "qPE95c0A-Fcm",
        "colab_type": "text"
      },
      "source": [
        "## Univariate "
      ]
    },
    {
      "cell_type": "markdown",
      "metadata": {
        "id": "8N1JVcQz6Qre",
        "colab_type": "text"
      },
      "source": [
        "### Histogram"
      ]
    },
    {
      "cell_type": "code",
      "metadata": {
        "id": "CVB7RPvG6S7z",
        "colab_type": "code",
        "outputId": "1dfeb091-f5d0-46f3-875b-ce41884d4cbf",
        "colab": {
          "base_uri": "https://localhost:8080/",
          "height": 286
        }
      },
      "source": [
        "# Plot Histogram of Age\n",
        "df['Age'].plot.hist()"
      ],
      "execution_count": 48,
      "outputs": [
        {
          "output_type": "execute_result",
          "data": {
            "text/plain": [
              "<matplotlib.axes._subplots.AxesSubplot at 0x7f270c95b2b0>"
            ]
          },
          "metadata": {
            "tags": []
          },
          "execution_count": 48
        },
        {
          "output_type": "display_data",
          "data": {
            "image/png": "[encoded data removed]",
            "text/plain": [
              "<Figure size 432x288 with 1 Axes>"
            ]
          },
          "metadata": {
            "tags": []
          }
        }
      ]
    },
    {
      "cell_type": "markdown",
      "metadata": {
        "id": "FhsqVryVgwbA",
        "colab_type": "text"
      },
      "source": [
        "Histograms can show us the distribution of data among the different attribute classes to have an insight if this data is balanced or not with respect to that attribute. Here, we can see that significantly more entries have ages between 20 and 30, hence we have imbalanced data regarding the age (not evenly distributed across the ages present). Having imbalanced data can sometimes negatively affect the model where having very few samples for certain classes might give it misguided information about their effect on the prediction hence causing a biased response.Thus, it's important to view the distribution of data over the classes of each attribute."
      ]
    },
    {
      "cell_type": "code",
      "metadata": {
        "id": "e3kP-i3f7smb",
        "colab_type": "code",
        "outputId": "759846f1-7723-42fe-b14c-bc701ae61610",
        "colab": {
          "base_uri": "https://localhost:8080/",
          "height": 269
        }
      },
      "source": [
        "# Observe Effect of Age on Survival\n",
        "survived = df[df[\"Survived\"] == 1]\n",
        "died = df[df[\"Survived\"] == 0]\n",
        "survived[\"Age\"].plot.hist(alpha=0.5,color='red',bins=50)\n",
        "died[\"Age\"].plot.hist(alpha=0.5,color='blue',bins=50)\n",
        "plt.legend(['Survived','Died'])\n",
        "plt.show()"
      ],
      "execution_count": 49,
      "outputs": [
        {
          "output_type": "display_data",
          "data": {
            "image/png": "[encoded data removed]",
            "text/plain": [
              "<Figure size 432x288 with 1 Axes>"
            ]
          },
          "metadata": {
            "tags": []
          }
        }
      ]
    },
    {
      "cell_type": "markdown",
      "metadata": {
        "id": "liMlONojjpJq",
        "colab_type": "text"
      },
      "source": [
        "The above figure can show us the effect of age on survival. From observing such histograms, we can conclude what the model will later most probably conclude on its own. For example here, we can see that children and old people were most likely to survive. Hence, there is a correlation between age and survival."
      ]
    },
    {
      "cell_type": "code",
      "metadata": {
        "id": "LkY-ShQ8jOwl",
        "colab_type": "code",
        "outputId": "53095aba-d52e-4731-e9cb-d3ef721bf241",
        "colab": {
          "base_uri": "https://localhost:8080/",
          "height": 269
        }
      },
      "source": [
        "# Observe Effect of Fare on Survival\n",
        "survived = df[df[\"Survived\"] == 1]\n",
        "died = df[df[\"Survived\"] == 0]\n",
        "survived[\"Fare\"].plot.hist(alpha=0.5,color='red',bins=50)\n",
        "died[\"Fare\"].plot.hist(alpha=0.5,color='blue',bins=50)\n",
        "plt.legend(['Survived','Died'])\n",
        "plt.show()"
      ],
      "execution_count": 50,
      "outputs": [
        {
          "output_type": "display_data",
          "data": {
            "image/png": "[encoded data removed]",
            "text/plain": [
              "<Figure size 432x288 with 1 Axes>"
            ]
          },
          "metadata": {
            "tags": []
          }
        }
      ]
    },
    {
      "cell_type": "markdown",
      "metadata": {
        "id": "Tg-N5uQklZWw",
        "colab_type": "text"
      },
      "source": [
        "Such \"feature importance\" observations can be done to all features or attributes. Here, we can see that there is also a correlation between Fare or ticket price and survival where richer people were more likely to survive, and we can see more deaths among the poor. Let's try next to see if sex had any effect on survival."
      ]
    },
    {
      "cell_type": "code",
      "metadata": {
        "id": "MyfzUAAUl4_A",
        "colab_type": "code",
        "outputId": "05edc275-ba9f-499b-d10d-b8f6f3f8bbb6",
        "colab": {
          "base_uri": "https://localhost:8080/",
          "height": 269
        }
      },
      "source": [
        "# Encode Sex attribute first since we need numerical data for the histogram\n",
        "df['Sex'] = df['Sex'].map( {'female': 1, 'male': 0} ).astype(int)\n",
        "\n",
        "# Observe Effect of Sex on Survival\n",
        "survived = df[df[\"Survived\"] == 1]\n",
        "died = df[df[\"Survived\"] == 0]\n",
        "survived[\"Sex\"].plot.hist(alpha=0.5,color='red',bins=50)\n",
        "died[\"Sex\"].plot.hist(alpha=0.5,color='blue',bins=50)\n",
        "plt.legend(['Survived','Died'])\n",
        "plt.show()"
      ],
      "execution_count": 51,
      "outputs": [
        {
          "output_type": "display_data",
          "data": {
            "image/png": "[encoded data removed]",
            "text/plain": [
              "<Figure size 432x288 with 1 Axes>"
            ]
          },
          "metadata": {
            "tags": []
          }
        }
      ]
    },
    {
      "cell_type": "markdown",
      "metadata": {
        "id": "57A_UZgGnLJn",
        "colab_type": "text"
      },
      "source": [
        "We can see that gender did have an effect on survival where around 75% of the females survived whereas only 14% of the males did. Hence, females had more chances of survival. This makes sense since mothers and their children were the first ones saved."
      ]
    },
    {
      "cell_type": "code",
      "metadata": {
        "id": "LntoiNDUoM7L",
        "colab_type": "code",
        "outputId": "b00ed1f3-8c89-4d41-ec90-22d1cc0df5e0",
        "colab": {
          "base_uri": "https://localhost:8080/",
          "height": 269
        }
      },
      "source": [
        "# Let's now observe the effect of number of siblings on Survival\n",
        "survived = df[df[\"Survived\"] == 1]\n",
        "died = df[df[\"Survived\"] == 0]\n",
        "survived[\"SibSp\"].plot.hist(alpha=0.5,color='red',bins=50)\n",
        "died[\"SibSp\"].plot.hist(alpha=0.5,color='blue',bins=50)\n",
        "plt.legend(['Survived','Died'])\n",
        "plt.show()"
      ],
      "execution_count": 52,
      "outputs": [
        {
          "output_type": "display_data",
          "data": {
            "image/png": "[encoded data removed]",
            "text/plain": [
              "<Figure size 432x288 with 1 Axes>"
            ]
          },
          "metadata": {
            "tags": []
          }
        }
      ]
    },
    {
      "cell_type": "markdown",
      "metadata": {
        "id": "jAODNNJPpGyp",
        "colab_type": "text"
      },
      "source": [
        "No clear relation between the number of siblings and survival can be noticed here. An interesting approach you can try on your own is joining the SibSp and Parch (number of parents/children) into one attribute and changing it to binary where 1 indicates that this person has a family member on board and 0 for not having family members aboard. If you observe this resulting attribute, you might actually see that having a family member decreased the chance of survival for the respective person."
      ]
    },
    {
      "cell_type": "markdown",
      "metadata": {
        "id": "DNPbuS5sFEpn",
        "colab_type": "text"
      },
      "source": [
        "### Pie Charts"
      ]
    },
    {
      "cell_type": "code",
      "metadata": {
        "id": "MAFTTsqMDDoj",
        "colab_type": "code",
        "outputId": "42bce35b-c415-4f76-d813-29d87c94fe36",
        "colab": {
          "base_uri": "https://localhost:8080/",
          "height": 272
        }
      },
      "source": [
        "# Use the data before encoding Sex to visualize the labels\n",
        "df = pd.read_csv(\"gdrive/My Drive/Colab Notebooks/Summer School/titanic_dataset.csv\")\n",
        "df.fillna(df.mean(), inplace=True)\n",
        "\n",
        "df['Sex'].value_counts().plot(kind='pie')"
      ],
      "execution_count": 53,
      "outputs": [
        {
          "output_type": "execute_result",
          "data": {
            "text/plain": [
              "<matplotlib.axes._subplots.AxesSubplot at 0x7f270ca742b0>"
            ]
          },
          "metadata": {
            "tags": []
          },
          "execution_count": 53
        },
        {
          "output_type": "display_data",
          "data": {
            "image/png": "[encoded data removed]",
            "text/plain": [
              "<Figure size 432x288 with 1 Axes>"
            ]
          },
          "metadata": {
            "tags": []
          }
        }
      ]
    },
    {
      "cell_type": "markdown",
      "metadata": {
        "id": "UKAF_xp_p8hT",
        "colab_type": "text"
      },
      "source": [
        "Pie charts can also help in checking the balance of data for a certain attribute. Here we can see that there were more males than females within the passengers. "
      ]
    },
    {
      "cell_type": "markdown",
      "metadata": {
        "id": "n5nMZpbqIEe0",
        "colab_type": "text"
      },
      "source": [
        "### Boxplots"
      ]
    },
    {
      "cell_type": "code",
      "metadata": {
        "id": "iMFBP7OmF1RX",
        "colab_type": "code",
        "outputId": "5224fb5e-5cfd-420d-9e78-e80cd4f7928a",
        "colab": {
          "base_uri": "https://localhost:8080/",
          "height": 570
        }
      },
      "source": [
        "df.boxplot(column=['Age'])\n",
        "df.boxplot(column=['Age'], by='Survived')"
      ],
      "execution_count": 54,
      "outputs": [
        {
          "output_type": "execute_result",
          "data": {
            "text/plain": [
              "<matplotlib.axes._subplots.AxesSubplot at 0x7f270cb61a58>"
            ]
          },
          "metadata": {
            "tags": []
          },
          "execution_count": 54
        },
        {
          "output_type": "display_data",
          "data": {
            "image/png": "[encoded data removed]",
            "text/plain": [
              "<Figure size 432x288 with 1 Axes>"
            ]
          },
          "metadata": {
            "tags": []
          }
        },
        {
          "output_type": "display_data",
          "data": {
            "image/png": "[encoded data removed]",
            "text/plain": [
              "<Figure size 432x288 with 1 Axes>"
            ]
          },
          "metadata": {
            "tags": []
          }
        }
      ]
    },
    {
      "cell_type": "markdown",
      "metadata": {
        "id": "shk5_ml-qf87",
        "colab_type": "text"
      },
      "source": [
        "Boxplots can also help us observe the distribution of data (balanced or not) and the effect of each feature or its importance as we have tried to do in histograms. Bear in mind that the upper side of the box is the third quartile which shows us below which value 75% of the data are."
      ]
    },
    {
      "cell_type": "markdown",
      "metadata": {
        "id": "UAolYtKcIXpd",
        "colab_type": "text"
      },
      "source": [
        "## Bivariate"
      ]
    },
    {
      "cell_type": "markdown",
      "metadata": {
        "id": "FXnapWV-IbLb",
        "colab_type": "text"
      },
      "source": [
        "### Scatter Plots"
      ]
    },
    {
      "cell_type": "code",
      "metadata": {
        "id": "A941RNtxIT41",
        "colab_type": "code",
        "outputId": "7c8838c4-6e7a-457c-954e-9c90c58a075b",
        "colab": {
          "base_uri": "https://localhost:8080/",
          "height": 300
        }
      },
      "source": [
        "df.plot.scatter(x='Fare', y='Age')"
      ],
      "execution_count": 55,
      "outputs": [
        {
          "output_type": "execute_result",
          "data": {
            "text/plain": [
              "<matplotlib.axes._subplots.AxesSubplot at 0x7f270cf24eb8>"
            ]
          },
          "metadata": {
            "tags": []
          },
          "execution_count": 55
        },
        {
          "output_type": "display_data",
          "data": {
            "image/png": "[encoded data removed]",
            "text/plain": [
              "<Figure size 432x288 with 1 Axes>"
            ]
          },
          "metadata": {
            "tags": []
          }
        }
      ]
    },
    {
      "cell_type": "markdown",
      "metadata": {
        "id": "G7eR47JiJLey",
        "colab_type": "text"
      },
      "source": [
        "Scatter plots show the correlation between two variables. The above plot shows that there is no correlation between Age and Fare. Below images show positive correlation between two variables (one increases/decreases as the other increases/decreases) and negative correlation (one increases as the other decreases or the opposite).\n"
      ]
    },
    {
      "cell_type": "markdown",
      "metadata": {
        "id": "gGZoMSXpseBj",
        "colab_type": "text"
      },
      "source": [
        "![alt text](https://www.latestquality.com/wp-content/uploads/2018/05/interpreting-a-scatter-plot.jpg)"
      ]
    },
    {
      "cell_type": "markdown",
      "metadata": {
        "id": "ZP7sgefw7RfY",
        "colab_type": "text"
      },
      "source": [
        "Let us now try to separate data based on scatter plots."
      ]
    },
    {
      "cell_type": "code",
      "metadata": {
        "id": "MG0f9onB6poe",
        "colab_type": "code",
        "outputId": "62a1e7a4-bb91-4869-a2a0-7ba385e38563",
        "colab": {
          "base_uri": "https://localhost:8080/",
          "height": 386
        }
      },
      "source": [
        "# Use the 'hue' argument to provide a factor variable\n",
        "sns.lmplot( x=\"Age\", y=\"Fare\", data=df, fit_reg=False, hue='Survived', legend=False)\n",
        " \n",
        "# Move the legend to an empty part of the plot\n",
        "plt.legend(loc='lower right')"
      ],
      "execution_count": 56,
      "outputs": [
        {
          "output_type": "execute_result",
          "data": {
            "text/plain": [
              "<matplotlib.legend.Legend at 0x7f270ce9bd68>"
            ]
          },
          "metadata": {
            "tags": []
          },
          "execution_count": 56
        },
        {
          "output_type": "display_data",
          "data": {
            "image/png": "[encoded data removed]",
            "text/plain": [
              "<Figure size 360x360 with 1 Axes>"
            ]
          },
          "metadata": {
            "tags": []
          }
        }
      ]
    },
    {
      "cell_type": "markdown",
      "metadata": {
        "id": "HMHlwhe-7mO8",
        "colab_type": "text"
      },
      "source": [
        "We can see that it's very hard to draw a clear separation between Survived/Didn't Survive based on Fare and Age. Next, we will put some random values to show how data can be separable. "
      ]
    },
    {
      "cell_type": "code",
      "metadata": {
        "id": "4MVMsdGI7KVp",
        "colab_type": "code",
        "outputId": "04aa4a82-703a-4725-fc65-1a8f35d70e70",
        "colab": {
          "base_uri": "https://localhost:8080/",
          "height": 386
        }
      },
      "source": [
        "X = np.array([[1,2],   # contains a column for Fare and a column for Age\n",
        "             [5,8],\n",
        "             [1.5,1.8],\n",
        "             [8,8],\n",
        "             [1,0.6],\n",
        "             [9,11]])\n",
        "y = [0,1,0,1,0,1]     # Represents Survived\n",
        "dff = pd.DataFrame({'Age': X[:,0], 'Fare': X[:,1], 'Survived': y})\n",
        "sns.lmplot(x=\"Age\", y=\"Fare\", data=dff, fit_reg=False, hue='Survived', legend=False)\n",
        "plt.legend(loc='lower right')"
      ],
      "execution_count": 57,
      "outputs": [
        {
          "output_type": "execute_result",
          "data": {
            "text/plain": [
              "<matplotlib.legend.Legend at 0x7f270e574550>"
            ]
          },
          "metadata": {
            "tags": []
          },
          "execution_count": 57
        },
        {
          "output_type": "display_data",
          "data": {
            "image/png": "[encoded data removed]",
            "text/plain": [
              "<Figure size 360x360 with 1 Axes>"
            ]
          },
          "metadata": {
            "tags": []
          }
        }
      ]
    },
    {
      "cell_type": "markdown",
      "metadata": {
        "id": "z5FMpHgS9gKB",
        "colab_type": "text"
      },
      "source": [
        "Note here that we can draw a clear separation (a line) between those who survived and those who didn't based on their age and fare. Such separation will be done by several models that we will see later."
      ]
    }
  ]
}
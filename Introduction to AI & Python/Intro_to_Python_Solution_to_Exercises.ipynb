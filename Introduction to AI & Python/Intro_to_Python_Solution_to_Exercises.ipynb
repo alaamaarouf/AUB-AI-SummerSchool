{
  "nbformat": 4,
  "nbformat_minor": 0,
  "metadata": {
    "colab": {
      "name": "Intro_to_Python.ipynb",
      "version": "0.3.2",
      "provenance": []
    },
    "language_info": {
      "codemirror_mode": {
        "name": "ipython",
        "version": 3
      },
      "file_extension": ".py",
      "mimetype": "text/x-python",
      "name": "python",
      "nbconvert_exporter": "python",
      "pygments_lexer": "ipython3",
      "version": "3.6.7"
    },
    "kernelspec": {
      "display_name": "Python 3",
      "language": "python",
      "name": "python3"
    }
  },
  "cells": [
    {
      "cell_type": "markdown",
      "metadata": {
        "id": "sWNAx7FaybaN",
        "colab_type": "text"
      },
      "source": [
        "# Using python as a calculator"
      ]
    },
    {
      "cell_type": "code",
      "metadata": {
        "id": "s06AOn5byBzE",
        "colab_type": "code",
        "colab": {}
      },
      "source": [
        "5+3"
      ],
      "execution_count": 0,
      "outputs": []
    },
    {
      "cell_type": "code",
      "metadata": {
        "id": "r9y30jjAyBzV",
        "colab_type": "code",
        "colab": {}
      },
      "source": [
        "4*5"
      ],
      "execution_count": 0,
      "outputs": []
    },
    {
      "cell_type": "code",
      "metadata": {
        "id": "I5U9hV-UyBzm",
        "colab_type": "code",
        "colab": {}
      },
      "source": [
        "3+(6*5)/3-2"
      ],
      "execution_count": 0,
      "outputs": []
    },
    {
      "cell_type": "markdown",
      "metadata": {
        "id": "u2WbbIhWymUZ",
        "colab_type": "text"
      },
      "source": [
        "# Print function"
      ]
    },
    {
      "cell_type": "code",
      "metadata": {
        "id": "SWZZetaAyBz6",
        "colab_type": "code",
        "colab": {}
      },
      "source": [
        "print(\"Hello World!\")"
      ],
      "execution_count": 0,
      "outputs": []
    },
    {
      "cell_type": "markdown",
      "metadata": {
        "id": "GrN_fGXHyt4z",
        "colab_type": "text"
      },
      "source": [
        "# Different variables"
      ]
    },
    {
      "cell_type": "code",
      "metadata": {
        "scrolled": true,
        "id": "v2bN2LH6yB0R",
        "colab_type": "code",
        "colab": {}
      },
      "source": [
        "string = \"This is a string\"\n",
        "number_integer = 4\n",
        "number_decimal = 3.5\n",
        "\n",
        "print(string)\n",
        "print(number_integer)\n",
        "print(number_decimal)"
      ],
      "execution_count": 0,
      "outputs": []
    },
    {
      "cell_type": "markdown",
      "metadata": {
        "id": "d6y4jU2Fyzbs",
        "colab_type": "text"
      },
      "source": [
        "# Initializing and reading arrays"
      ]
    },
    {
      "cell_type": "code",
      "metadata": {
        "id": "rCdmZ5jfyB0o",
        "colab_type": "code",
        "colab": {}
      },
      "source": [
        "#Initializing the array\n",
        "array = [1, 4, \"hello\", 4.5]\n",
        "\n",
        "#Printing the elements of the array\n",
        "print(array[0])\n",
        "print(array[1])\n",
        "print(array[2])\n",
        "print(array[3])\n",
        "\n",
        "#Slicing\n",
        "print(array[:3])\n",
        "print(array[2:])\n",
        "print(array[1:3])\n",
        "print(array[:])"
      ],
      "execution_count": 0,
      "outputs": []
    },
    {
      "cell_type": "markdown",
      "metadata": {
        "id": "p-PfzkXHR8oX",
        "colab_type": "text"
      },
      "source": [
        "**Exercise:**\n",
        "\n",
        "Initialize an array made up of 5 digits named \"digits\" and print:\n",
        "\n",
        "*  The first and second elements seperately\n",
        "*  The last three elements together\n",
        "*  The whole array together\n",
        "\n",
        "\n",
        "\n"
      ]
    },
    {
      "cell_type": "code",
      "metadata": {
        "id": "nTJZyzMbR5ZL",
        "colab_type": "code",
        "colab": {}
      },
      "source": [
        "digits=[1,2,3,4,5]\n",
        "\n",
        "#Printing the first element\n",
        "print(digits[0])\n",
        "\n",
        "#Printing the second element\n",
        "print(digits[1])\n",
        "\n",
        "#Printing the last three elements together\n",
        "print(digits[2:])\n",
        "\n",
        "#Printing the whole array\n",
        "print(digits[:])"
      ],
      "execution_count": 0,
      "outputs": []
    },
    {
      "cell_type": "markdown",
      "metadata": {
        "id": "DWugyuXhzFdv",
        "colab_type": "text"
      },
      "source": [
        "# If/else statements"
      ]
    },
    {
      "cell_type": "code",
      "metadata": {
        "id": "Z27-XJJyyB1H",
        "colab_type": "code",
        "colab": {}
      },
      "source": [
        "x = 0\n",
        "if (x==0):\n",
        "    print(\"True\")\n",
        "else:\n",
        "    print(\"False\")"
      ],
      "execution_count": 0,
      "outputs": []
    },
    {
      "cell_type": "code",
      "metadata": {
        "id": "orZNapCayB1Y",
        "colab_type": "code",
        "colab": {}
      },
      "source": [
        "x = 3\n",
        "if (x==0):\n",
        "    print(\"True\")\n",
        "else:\n",
        "    print(\"False\")"
      ],
      "execution_count": 0,
      "outputs": []
    },
    {
      "cell_type": "markdown",
      "metadata": {
        "id": "7vNN5iQ5Sv8i",
        "colab_type": "text"
      },
      "source": [
        "**Exercise:**\n",
        "\n",
        "Write a program that checks if the value of a variable is greater than or equal to 5. If the condition is true, the statement \"The variable is greater than or equal to 5\" is printed. If the condition is not true, the statement \"The variable is stricly less than 5\" is printed. Write your program and test it with two variable values 1 and 7."
      ]
    },
    {
      "cell_type": "code",
      "metadata": {
        "id": "u9OFEIFCS18S",
        "colab_type": "code",
        "colab": {}
      },
      "source": [
        "#Testing with x=1\n",
        "x=1\n",
        "if (x>=5):\n",
        "  print(\"The variable is greater than or equal to 5\")\n",
        "else:\n",
        "  print(\"The variable is stricly less than 5\")"
      ],
      "execution_count": 0,
      "outputs": []
    },
    {
      "cell_type": "code",
      "metadata": {
        "id": "Rd0-Y21gTLXd",
        "colab_type": "code",
        "colab": {}
      },
      "source": [
        "#Testing with x=7\n",
        "x=7\n",
        "if (x>=5):\n",
        "  print(\"The variable is greater than or equal to 5\")\n",
        "else:\n",
        "  print(\"The variable is stricly less than 5\")"
      ],
      "execution_count": 0,
      "outputs": []
    },
    {
      "cell_type": "markdown",
      "metadata": {
        "id": "vTWufS1OzJ87",
        "colab_type": "text"
      },
      "source": [
        "# While loops"
      ]
    },
    {
      "cell_type": "code",
      "metadata": {
        "id": "6BUhFyDnyB13",
        "colab_type": "code",
        "colab": {}
      },
      "source": [
        "i = 1\n",
        "while ( i < 6 ):\n",
        "    print( i )\n",
        "    i = i + 1"
      ],
      "execution_count": 0,
      "outputs": []
    },
    {
      "cell_type": "markdown",
      "metadata": {
        "id": "gPtAoGHKTSUz",
        "colab_type": "text"
      },
      "source": [
        "**Exercise:**\n",
        "\n",
        "Write a program that decrements a number by one until it is less than 0. In every iteration, the statement \"The number is still positive\" is printed."
      ]
    },
    {
      "cell_type": "code",
      "metadata": {
        "id": "ZMpU8OwfTW-f",
        "colab_type": "code",
        "colab": {}
      },
      "source": [
        "x=4\n",
        "while(x>=0):\n",
        "  x=x-1\n",
        "  print(\"The number is still positive\")"
      ],
      "execution_count": 0,
      "outputs": []
    },
    {
      "cell_type": "markdown",
      "metadata": {
        "id": "jUywXnGtzN2J",
        "colab_type": "text"
      },
      "source": [
        "# For loops"
      ]
    },
    {
      "cell_type": "code",
      "metadata": {
        "id": "P6JxhpZfyB2M",
        "colab_type": "code",
        "colab": {}
      },
      "source": [
        "numbers = [1 , 2 , 3]\n",
        "for x in numbers:\n",
        "    print(x)"
      ],
      "execution_count": 0,
      "outputs": []
    },
    {
      "cell_type": "code",
      "metadata": {
        "id": "PjwF-LTvyB2g",
        "colab_type": "code",
        "colab": {}
      },
      "source": [
        "for x in range(3):\n",
        "    print(x)"
      ],
      "execution_count": 0,
      "outputs": []
    },
    {
      "cell_type": "markdown",
      "metadata": {
        "id": "gVtq7VYDTmz7",
        "colab_type": "text"
      },
      "source": [
        "**Exercise:**\n",
        "\n",
        "Write a program that does five iterations and in every iteration, a value of 2 is added to the number of the iteration and printed."
      ]
    },
    {
      "cell_type": "code",
      "metadata": {
        "id": "wNx35BwGTrVg",
        "colab_type": "code",
        "colab": {}
      },
      "source": [
        "for x in range(5):\n",
        "  print(x+2)"
      ],
      "execution_count": 0,
      "outputs": []
    },
    {
      "cell_type": "markdown",
      "metadata": {
        "id": "meoSFjE7zT1S",
        "colab_type": "text"
      },
      "source": [
        "# Functions"
      ]
    },
    {
      "cell_type": "code",
      "metadata": {
        "id": "aivHlp52yB21",
        "colab_type": "code",
        "colab": {}
      },
      "source": [
        "#Function without parameters\n",
        "def my_function():\n",
        "    print(\"Hello World!\")\n",
        "\n",
        "my_function()"
      ],
      "execution_count": 0,
      "outputs": []
    },
    {
      "cell_type": "code",
      "metadata": {
        "id": "dDHWPHfOyB3M",
        "colab_type": "code",
        "colab": {}
      },
      "source": [
        "#Function with parameters\n",
        "def my_function_with_parameter(number):\n",
        "    print (number + 2)\n",
        "\n",
        "my_function_with_parameter(5)"
      ],
      "execution_count": 0,
      "outputs": []
    },
    {
      "cell_type": "code",
      "metadata": {
        "id": "S53Z5hOFyB3h",
        "colab_type": "code",
        "colab": {}
      },
      "source": [
        "#Function with return\n",
        "def my_function_with_parameter(number):\n",
        "    return (number + 2)\n",
        "\n",
        "print(my_function_with_parameter(5))"
      ],
      "execution_count": 0,
      "outputs": []
    },
    {
      "cell_type": "markdown",
      "metadata": {
        "id": "KxOgDuW9T1HO",
        "colab_type": "text"
      },
      "source": [
        "**Exercise:**\n",
        "\n",
        "Write a function called \"Adding two numbers\" which adds two numbers given as parameters and returns the result. Give different values for the function and print its result."
      ]
    },
    {
      "cell_type": "code",
      "metadata": {
        "id": "43quRQtYT6gs",
        "colab_type": "code",
        "colab": {}
      },
      "source": [
        "def adding_two_numbers(x,y):\n",
        "  result=x+y\n",
        "  return result\n",
        "\n",
        "print(adding_two_numbers(2,3))\n",
        "print(adding_two_numbers(4,2))"
      ],
      "execution_count": 0,
      "outputs": []
    },
    {
      "cell_type": "markdown",
      "metadata": {
        "id": "QRnKLFvzzcQm",
        "colab_type": "text"
      },
      "source": [
        "# NumPy Library"
      ]
    },
    {
      "cell_type": "markdown",
      "metadata": {
        "id": "oNwzoGaAyB3z",
        "colab_type": "text"
      },
      "source": [
        "Creating NumPy arrays"
      ]
    },
    {
      "cell_type": "code",
      "metadata": {
        "id": "cb1NkDseyB37",
        "colab_type": "code",
        "colab": {}
      },
      "source": [
        "import numpy as np\n",
        "\n",
        "#One-dimensional NumPy array\n",
        "list1 = [1 , 2 , 3]\n",
        "numpy_array= np.array( list1 )\n",
        "print(\"One-dimensional array: \", numpy_array)\n",
        "\n",
        "#Two-dimensional NumPy array\n",
        "list2 = [ [1 , 2 , 3], [4, 5, 6] ]\n",
        "numpy_array2= np.array( list2 )\n",
        "print(\"Two-dimensional array: \", numpy_array2)"
      ],
      "execution_count": 0,
      "outputs": []
    },
    {
      "cell_type": "markdown",
      "metadata": {
        "id": "kqapLULOyB4Y",
        "colab_type": "text"
      },
      "source": [
        "Using the shape function"
      ]
    },
    {
      "cell_type": "code",
      "metadata": {
        "id": "GGbINjeOyB4j",
        "colab_type": "code",
        "colab": {}
      },
      "source": [
        "import numpy as np\n",
        "\n",
        "#One-dimensional NumPy array\n",
        "list1 = [1 , 2 , 3]\n",
        "numpy_array= np.array( list1 )\n",
        "print(\"One-dimensional array: \", numpy_array)\n",
        "print(\"Shape of array 1: \", numpy_array.shape)\n",
        "\n",
        "#Two-dimensional NumPy array\n",
        "list2 = [ [1 , 2 , 3], [4, 5, 6] ]\n",
        "numpy_array2= np.array( list2 )\n",
        "print(\"Two-dimensional array: \", numpy_array2)\n",
        "print(\"Shape of array 2: \", numpy_array2.shape)"
      ],
      "execution_count": 0,
      "outputs": []
    },
    {
      "cell_type": "markdown",
      "metadata": {
        "id": "1VXUxnMsyB43",
        "colab_type": "text"
      },
      "source": [
        "Using the reshape function"
      ]
    },
    {
      "cell_type": "code",
      "metadata": {
        "scrolled": true,
        "id": "Mqj-UH0FyB45",
        "colab_type": "code",
        "colab": {}
      },
      "source": [
        "import numpy as np\n",
        "\n",
        "list1 = [1 , 2 , 3 , 4 , 5 , 6]\n",
        "numpy_array= np.array( list1 )\n",
        "print( np.reshape ( numpy_array , (3,2) ) )"
      ],
      "execution_count": 0,
      "outputs": []
    },
    {
      "cell_type": "markdown",
      "metadata": {
        "id": "v_j7eOQsUYoi",
        "colab_type": "text"
      },
      "source": [
        "**Exercise:**\n",
        "\n",
        "Initialize a 2x2 Numpy array. Then print it and print its shape."
      ]
    },
    {
      "cell_type": "code",
      "metadata": {
        "id": "DIDyc9e7UbGP",
        "colab_type": "code",
        "colab": {}
      },
      "source": [
        "import numpy as np\n",
        "\n",
        "list1=[[1,2],[3,4]]\n",
        "numpy_array=np.array(list1)\n",
        "\n",
        "#Printing the NumPy array\n",
        "print(numpy_array)\n",
        "\n",
        "#Printing its shape\n",
        "print(numpy_array.shape)"
      ],
      "execution_count": 0,
      "outputs": []
    },
    {
      "cell_type": "markdown",
      "metadata": {
        "id": "GJPuePWeU8Kf",
        "colab_type": "text"
      },
      "source": [
        "Reshape the given 1x4 Numpy array to a 2x2 Numpy array and print it."
      ]
    },
    {
      "cell_type": "code",
      "metadata": {
        "id": "bvvGeDQ7U9LM",
        "colab_type": "code",
        "colab": {}
      },
      "source": [
        "import numpy as np\n",
        "list1=[1,2,3,4]\n",
        "numpy_array=np.array(list1)\n",
        "reshaped_array=np.reshape(numpy_array,(2,2))\n",
        "print(reshaped_array)"
      ],
      "execution_count": 0,
      "outputs": []
    },
    {
      "cell_type": "markdown",
      "metadata": {
        "id": "8kQzzinEzmWF",
        "colab_type": "text"
      },
      "source": [
        "# Matplotlib Library - Plotting a straight line"
      ]
    },
    {
      "cell_type": "code",
      "metadata": {
        "id": "YsjLqjd3yB5U",
        "colab_type": "code",
        "colab": {}
      },
      "source": [
        "from matplotlib import pyplot as plt\n",
        "\n",
        "x=[6,8,10]\n",
        "y=[12,16,20]\n",
        "plt.plot(x,y)\n",
        "plt.title(\"Info\")\n",
        "plt.ylabel(\"Y axis\")\n",
        "plt.xlabel(\"X axis\")\n",
        "plt.show()"
      ],
      "execution_count": 0,
      "outputs": []
    },
    {
      "cell_type": "markdown",
      "metadata": {
        "id": "yeSfwVbQU2tM",
        "colab_type": "text"
      },
      "source": [
        "**Exercise:**\n",
        "\n",
        "Write a program that plots the given data point.\n",
        "\n",
        "*   Title of graph: \"Temperature vs Time Graph\"\n",
        "*   X-axis label: \"Time\"\n",
        "*   Y-axis label: \"Temperature\""
      ]
    },
    {
      "cell_type": "code",
      "metadata": {
        "id": "LO8QrSz9yB5k",
        "colab_type": "code",
        "colab": {}
      },
      "source": [
        "from matplotlib import pyplot as plt\n",
        "temp=[20,28,37,42,50,52]\n",
        "time=[0,2,4,6,8,10]\n",
        "\n",
        "plt.plot(time , temp)\n",
        "plt.title(\"Temperature vs Time Graph\")\n",
        "plt.xlabel(\"Time\")\n",
        "plt.ylabel( \"Temperature\")\n",
        "plt.show()"
      ],
      "execution_count": 0,
      "outputs": []
    }
  ]
}